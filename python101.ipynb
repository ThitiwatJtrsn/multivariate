{
  "nbformat": 4,
  "nbformat_minor": 0,
  "metadata": {
    "colab": {
      "name": "python101.ipynb",
      "provenance": [],
      "authorship_tag": "ABX9TyPNBltgw9tpb+LoavCT1/fP",
      "include_colab_link": true
    },
    "kernelspec": {
      "name": "python3",
      "display_name": "Python 3"
    }
  },
  "cells": [
    {
      "cell_type": "markdown",
      "metadata": {
        "id": "view-in-github",
        "colab_type": "text"
      },
      "source": [
        "<a href=\"https://colab.research.google.com/github/ThitiwatJtrsn/multivariate/blob/main/python101.ipynb\" target=\"_parent\"><img src=\"https://colab.research.google.com/assets/colab-badge.svg\" alt=\"Open In Colab\"/></a>"
      ]
    },
    {
      "cell_type": "markdown",
      "metadata": {
        "id": "8GxQwafKLmbV"
      },
      "source": [
        "ตัวแปร variable"
      ]
    },
    {
      "cell_type": "markdown",
      "metadata": {
        "id": "ArphqoYXMIbc"
      },
      "source": [
        "หลักการตั้งค่าชื่อตัวแปรเบื้องต้น\n",
        "\n",
        "1.   ตั้งให้สื่อ\n",
        "2.   ภาษาอังกฤษ\n",
        "3.   ใช้ตัวเลขได้แต่ห้ามขึ้นต้นด้วยตัวเลข\n",
        "4.   ห้ามเว้นวรรค\n",
        "5.   ตัวเล็กกับตัวใหญ่ไม่เหมือนกัน\n",
        "\n"
      ]
    },
    {
      "cell_type": "markdown",
      "metadata": {
        "id": "6SBWKlGXMxFa"
      },
      "source": [
        "มี output 2 mode : ออกหน้าจอ กับ เข้าไปเก็บในตัวแปร"
      ]
    },
    {
      "cell_type": "code",
      "metadata": {
        "colab": {
          "base_uri": "https://localhost:8080/"
        },
        "id": "sZbY_tKfM2Gh",
        "outputId": "4347e9cd-4945-4d25-9871-88ca6ab9055a"
      },
      "source": [
        "3.14159  # hashtag หรือ sharp # คือ comment >>> อันนี้คือ output ที่ออกหน้าจอ"
      ],
      "execution_count": 1,
      "outputs": [
        {
          "output_type": "execute_result",
          "data": {
            "text/plain": [
              "3.14159"
            ]
          },
          "metadata": {
            "tags": []
          },
          "execution_count": 1
        }
      ]
    },
    {
      "cell_type": "code",
      "metadata": {
        "id": "twKNQ7mAKXRD"
      },
      "source": [
        "Pi = 3.14159  # อันนี้คือ output ที่เข้าไปอยู่ในตัวแปร"
      ],
      "execution_count": 2,
      "outputs": []
    },
    {
      "cell_type": "code",
      "metadata": {
        "colab": {
          "base_uri": "https://localhost:8080/"
        },
        "id": "Vxm3AcJRNFPu",
        "outputId": "d00b2b32-118c-44bb-a180-8505147423e7"
      },
      "source": [
        "Pi"
      ],
      "execution_count": 3,
      "outputs": [
        {
          "output_type": "execute_result",
          "data": {
            "text/plain": [
              "3.14159"
            ]
          },
          "metadata": {
            "tags": []
          },
          "execution_count": 3
        }
      ]
    },
    {
      "cell_type": "code",
      "metadata": {
        "colab": {
          "base_uri": "https://localhost:8080/"
        },
        "id": "9oD01fWcNXIE",
        "outputId": "3ad8b435-90fe-4476-c9b8-feceb272fc85"
      },
      "source": [
        "a = 1234567\n",
        "print(a)"
      ],
      "execution_count": 4,
      "outputs": [
        {
          "output_type": "stream",
          "text": [
            "1234567\n"
          ],
          "name": "stdout"
        }
      ]
    },
    {
      "cell_type": "markdown",
      "metadata": {
        "id": "ASRyM1wkOZXX"
      },
      "source": [
        "#ชนิดของตัวแปร 3 ชนิด"
      ]
    },
    {
      "cell_type": "markdown",
      "metadata": {
        "id": "UBy-b6n-Oima"
      },
      "source": [
        "## จำนวนเต็ม (integer,int)"
      ]
    },
    {
      "cell_type": "code",
      "metadata": {
        "colab": {
          "base_uri": "https://localhost:8080/"
        },
        "id": "aH21ARSdOwPu",
        "outputId": "e2029e79-f565-4742-a24e-55a91f931ce7"
      },
      "source": [
        "aaa = 1092\n",
        "print(aaa)"
      ],
      "execution_count": 5,
      "outputs": [
        {
          "output_type": "stream",
          "text": [
            "1092\n"
          ],
          "name": "stdout"
        }
      ]
    },
    {
      "cell_type": "markdown",
      "metadata": {
        "id": "ZQ9v-2EwO5-T"
      },
      "source": [
        "## จำนวนจริง (float)"
      ]
    },
    {
      "cell_type": "code",
      "metadata": {
        "colab": {
          "base_uri": "https://localhost:8080/"
        },
        "id": "lwmLUhL2PAke",
        "outputId": "0bf96d15-4bac-47f5-a8ab-490a5d51dcd3"
      },
      "source": [
        "bbb = 11.\n",
        "print(bbb)"
      ],
      "execution_count": 6,
      "outputs": [
        {
          "output_type": "stream",
          "text": [
            "11.0\n"
          ],
          "name": "stdout"
        }
      ]
    },
    {
      "cell_type": "markdown",
      "metadata": {
        "id": "aRKmI5ebPNrB"
      },
      "source": [
        "## ตัวอักษร-ข้อความ (character และ text,string)"
      ]
    },
    {
      "cell_type": "code",
      "metadata": {
        "colab": {
          "base_uri": "https://localhost:8080/"
        },
        "id": "urACHKZCPan8",
        "outputId": "699148d8-0b28-42e4-a1e2-5f69f9fd3ed5"
      },
      "source": [
        "ccc = '123456' # เราใช้ single quote ' sinv double quote '' ล้อมรอบตัวหนังสือเพื่อระบุว่าเป็น character-string\n",
        "print(ccc)"
      ],
      "execution_count": 7,
      "outputs": [
        {
          "output_type": "stream",
          "text": [
            "123456\n"
          ],
          "name": "stdout"
        }
      ]
    },
    {
      "cell_type": "code",
      "metadata": {
        "colab": {
          "base_uri": "https://localhost:8080/"
        },
        "id": "-Lu2zIwzP-bz",
        "outputId": "d9b018e5-8c34-45e7-b42c-6e42a50b5700"
      },
      "source": [
        "aaa + bbb # float + int  = float"
      ],
      "execution_count": 8,
      "outputs": [
        {
          "output_type": "execute_result",
          "data": {
            "text/plain": [
              "1103.0"
            ]
          },
          "metadata": {
            "tags": []
          },
          "execution_count": 8
        }
      ]
    },
    {
      "cell_type": "code",
      "metadata": {
        "colab": {
          "base_uri": "https://localhost:8080/",
          "height": 164
        },
        "id": "lDwz5tdSQIXE",
        "outputId": "ae298c99-98ff-4ad6-b84a-7b884dc60e11"
      },
      "source": [
        "bbb + ccc"
      ],
      "execution_count": 9,
      "outputs": [
        {
          "output_type": "error",
          "ename": "TypeError",
          "evalue": "ignored",
          "traceback": [
            "\u001b[0;31m---------------------------------------------------------------------------\u001b[0m",
            "\u001b[0;31mTypeError\u001b[0m                                 Traceback (most recent call last)",
            "\u001b[0;32m<ipython-input-9-a3916046ad1c>\u001b[0m in \u001b[0;36m<module>\u001b[0;34m()\u001b[0m\n\u001b[0;32m----> 1\u001b[0;31m \u001b[0mbbb\u001b[0m \u001b[0;34m+\u001b[0m \u001b[0mccc\u001b[0m\u001b[0;34m\u001b[0m\u001b[0;34m\u001b[0m\u001b[0m\n\u001b[0m",
            "\u001b[0;31mTypeError\u001b[0m: unsupported operand type(s) for +: 'float' and 'str'"
          ]
        }
      ]
    },
    {
      "cell_type": "code",
      "metadata": {
        "id": "rXUBBWnOQpdB"
      },
      "source": [
        "ddd = 'ฐิติวัฒน์'\n",
        "print(ddd)"
      ],
      "execution_count": null,
      "outputs": []
    },
    {
      "cell_type": "markdown",
      "metadata": {
        "id": "8irZAKZUQ15L"
      },
      "source": [
        "## การเปลี่ยนชนิดของตัวแปร variable casting"
      ]
    },
    {
      "cell_type": "code",
      "metadata": {
        "id": "6WqBl98XQ_ZO"
      },
      "source": [
        "aaa + int(ccc)"
      ],
      "execution_count": null,
      "outputs": []
    },
    {
      "cell_type": "code",
      "metadata": {
        "id": "9vmphLkuRji3"
      },
      "source": [
        "aaa + float(ccc)"
      ],
      "execution_count": null,
      "outputs": []
    },
    {
      "cell_type": "code",
      "metadata": {
        "id": "1irBAuZkRosJ"
      },
      "source": [
        "str(aaa)"
      ],
      "execution_count": null,
      "outputs": []
    },
    {
      "cell_type": "markdown",
      "metadata": {
        "id": "8CvAVNycSUGV"
      },
      "source": [
        "## การดำเนินการ (Operators +,-,*,/,%)"
      ]
    },
    {
      "cell_type": "code",
      "metadata": {
        "id": "UrQRghr8StPx"
      },
      "source": [
        "a+b"
      ],
      "execution_count": null,
      "outputs": []
    },
    {
      "cell_type": "code",
      "metadata": {
        "id": "qev6ApcFSyNs"
      },
      "source": [
        "aaa + bbb"
      ],
      "execution_count": null,
      "outputs": []
    },
    {
      "cell_type": "code",
      "metadata": {
        "id": "QqPdPGs8S1ol"
      },
      "source": [
        "aaa - bbb"
      ],
      "execution_count": null,
      "outputs": []
    },
    {
      "cell_type": "code",
      "metadata": {
        "id": "CC6q3IPBS6P0"
      },
      "source": [
        "ab = aaa*bbb\n",
        "print(ab)"
      ],
      "execution_count": null,
      "outputs": []
    },
    {
      "cell_type": "code",
      "metadata": {
        "id": "3jUS5dzwTBdS"
      },
      "source": [
        "ab + int(ccc)"
      ],
      "execution_count": null,
      "outputs": []
    },
    {
      "cell_type": "markdown",
      "metadata": {
        "id": "UPpWGEw5Tb4E"
      },
      "source": [
        "## % คือหมาย modulo"
      ]
    },
    {
      "cell_type": "code",
      "metadata": {
        "id": "VhMD1ByiTkoz"
      },
      "source": [
        "5%3"
      ],
      "execution_count": null,
      "outputs": []
    },
    {
      "cell_type": "code",
      "metadata": {
        "id": "h3Vls4PeTsf6"
      },
      "source": [
        "7%3"
      ],
      "execution_count": null,
      "outputs": []
    },
    {
      "cell_type": "markdown",
      "metadata": {
        "id": "T-CJVfAxUFkK"
      },
      "source": [
        "## คำสั่ง print แบบพิเศษ ("
      ]
    },
    {
      "cell_type": "code",
      "metadata": {
        "id": "5_fvERV0UTt6"
      },
      "source": [
        "print('ตัวแปร') #สิ่งที่อยู่ข้างในวงเล็บ ตัวแปร  และ string"
      ],
      "execution_count": null,
      "outputs": []
    },
    {
      "cell_type": "code",
      "metadata": {
        "id": "04XQINc-UkUo"
      },
      "source": [
        "print(f'% คือการเอาเศษ เช่น 7%3) = {7%3}') # เพิ่ท f หน้า 'string' และใช้ {} ใส่ code"
      ],
      "execution_count": null,
      "outputs": []
    },
    {
      "cell_type": "code",
      "metadata": {
        "id": "WCmOZPW4U6w8"
      },
      "source": [
        "print(f'% คือการหารเอาเศษ เช่น 7%3 = {7%3}') \\\n",
        "   แต่\\n/"
      ],
      "execution_count": null,
      "outputs": []
    },
    {
      "cell_type": "markdown",
      "metadata": {
        "id": "Wpqv9SABW8VB"
      },
      "source": [
        "## DATA STRUCTURE (โครงสร้างข้อมูล)"
      ]
    },
    {
      "cell_type": "code",
      "metadata": {
        "id": "XIRklNHMXZqJ"
      },
      "source": [
        "[111,'c','งง',aaa]"
      ],
      "execution_count": null,
      "outputs": []
    },
    {
      "cell_type": "markdown",
      "metadata": {
        "id": "hjx9tN5FXHo7"
      },
      "source": [
        "### list คือ การเอาข้อมูลหลายๆตัวมาเรียงต่อกัน\n",
        "#### list สามารถสร้างได้ 2 แบบ ดังนี้"
      ]
    },
    {
      "cell_type": "markdown",
      "metadata": {
        "id": "vfqSwYz-XyEg"
      },
      "source": [
        "#### แบบที่1 > square brackets"
      ]
    },
    {
      "cell_type": "code",
      "metadata": {
        "id": "g11VlIYRb7qM"
      },
      "source": [
        "list_a = []\n",
        "print(list_a)"
      ],
      "execution_count": null,
      "outputs": []
    },
    {
      "cell_type": "code",
      "metadata": {
        "id": "XvEOa7mBcAhK"
      },
      "source": [
        "list_b = [111,'c','งง',aaa]\n",
        "print(list_b)"
      ],
      "execution_count": null,
      "outputs": []
    },
    {
      "cell_type": "markdown",
      "metadata": {
        "id": "uk8bBkklc-iu"
      },
      "source": [
        "### ลำดับที่อยู่ใน list มีความสำคัญ (ลำดับใน list เริ่มจาก 0,1,2,...) "
      ]
    },
    {
      "cell_type": "code",
      "metadata": {
        "id": "BSvFbZVOdAH8"
      },
      "source": [
        "list_b[2]"
      ],
      "execution_count": null,
      "outputs": []
    },
    {
      "cell_type": "markdown",
      "metadata": {
        "id": "TklEHei2dopk"
      },
      "source": [
        "#### แบบที่2"
      ]
    },
    {
      "cell_type": "code",
      "metadata": {
        "id": "Xlz9JLuydpxP"
      },
      "source": [
        "list_c = list()\n",
        "print(list_c)"
      ],
      "execution_count": null,
      "outputs": []
    },
    {
      "cell_type": "markdown",
      "metadata": {
        "id": "j1U-ezqRdyJ-"
      },
      "source": [
        "## append() เพิ่มสมาชิกใน list"
      ]
    },
    {
      "cell_type": "code",
      "metadata": {
        "id": "2m5bR5widzNh"
      },
      "source": [
        "list_b.append('u')\n",
        "print(list_b)"
      ],
      "execution_count": null,
      "outputs": []
    },
    {
      "cell_type": "markdown",
      "metadata": {
        "id": "cMWvnjTUd7bT"
      },
      "source": [
        "ตัวที่อยู่ในวงเล็บหลังจากตัวแปร list เรียกว่า index ใช้สำหรับชี้ข้อมูลใน list \n",
        "\n",
        "(ชี้จากข้างหน้า,ชี้จากข้างหลัง)\n",
        "\n",
        "0 คือสมาชิกตัวแรก , -1 คือสมาชิกตัวสุดท้าย"
      ]
    },
    {
      "cell_type": "code",
      "metadata": {
        "id": "MLcf8Gj6d_7o"
      },
      "source": [
        "list_b[-1] "
      ],
      "execution_count": null,
      "outputs": []
    },
    {
      "cell_type": "markdown",
      "metadata": {
        "id": "ADv-ntQtec7-"
      },
      "source": [
        "## String > list of characters"
      ]
    },
    {
      "cell_type": "code",
      "metadata": {
        "id": "c784cmpheeEB"
      },
      "source": [
        "t = 'python is easy'\n",
        "print(t)"
      ],
      "execution_count": null,
      "outputs": []
    },
    {
      "cell_type": "code",
      "metadata": {
        "id": "pcfCdWCUelCo"
      },
      "source": [
        "t[1]"
      ],
      "execution_count": null,
      "outputs": []
    },
    {
      "cell_type": "code",
      "metadata": {
        "id": "hM-h7W_oemy7"
      },
      "source": [
        "t[-4]"
      ],
      "execution_count": null,
      "outputs": []
    },
    {
      "cell_type": "code",
      "metadata": {
        "id": "nslvSqwPetNS"
      },
      "source": [
        "t[6]"
      ],
      "execution_count": null,
      "outputs": []
    },
    {
      "cell_type": "markdown",
      "metadata": {
        "id": "CbsKFXB2hhSy"
      },
      "source": [
        "### จบ 5 มค 2011"
      ]
    },
    {
      "cell_type": "markdown",
      "metadata": {
        "id": "KHY_9VfzhovC"
      },
      "source": [
        "## คาบ 3 11 มค 2021"
      ]
    },
    {
      "cell_type": "code",
      "metadata": {
        "id": "CUd4baQBhwe-"
      },
      "source": [
        "len(t)"
      ],
      "execution_count": null,
      "outputs": []
    },
    {
      "cell_type": "code",
      "metadata": {
        "id": "j0gIdwzUiwE3"
      },
      "source": [
        "len(list_b)# len คือคำสั่งตรวจสอบตวามยาวของ list (จำนวนสมาชิก)"
      ],
      "execution_count": null,
      "outputs": []
    },
    {
      "cell_type": "code",
      "metadata": {
        "id": "SOrwENDak6dQ"
      },
      "source": [
        "list_b"
      ],
      "execution_count": null,
      "outputs": []
    },
    {
      "cell_type": "code",
      "metadata": {
        "id": "KJsp3wEilIJv"
      },
      "source": [
        "list_b.append(t)\n",
        "print(list_b)"
      ],
      "execution_count": null,
      "outputs": []
    },
    {
      "cell_type": "markdown",
      "metadata": {
        "id": "3UMRl1hClxZ4"
      },
      "source": [
        "ตัวที่อยู่ข้างใน[] เราเรียกว่า index (ตัวชี้)"
      ]
    },
    {
      "cell_type": "markdown",
      "metadata": {
        "id": "UpHQEJQfldvk"
      },
      "source": [
        "###List slicing สามารถทำได้โดยใช้ colon: "
      ]
    },
    {
      "cell_type": "markdown",
      "metadata": {
        "id": "0cuOvX30msip"
      },
      "source": [
        "[a:]->[a,b]"
      ]
    },
    {
      "cell_type": "code",
      "metadata": {
        "id": "dqx420A6l63d"
      },
      "source": [
        "print(t)\n",
        "print(t[7:9])\n",
        "print(len(t[7:9]))"
      ],
      "execution_count": null,
      "outputs": []
    },
    {
      "cell_type": "code",
      "metadata": {
        "id": "bX-QaXQmnqxl"
      },
      "source": [
        "t[0:14:2]"
      ],
      "execution_count": null,
      "outputs": []
    },
    {
      "cell_type": "code",
      "metadata": {
        "id": "SslChqjSoPfG"
      },
      "source": [
        "z = [1,2,3,4,5,6,7,8,9,10]\n"
      ],
      "execution_count": null,
      "outputs": []
    },
    {
      "cell_type": "markdown",
      "metadata": {
        "id": "XtrX73iPodxX"
      },
      "source": [
        "### quiz"
      ]
    },
    {
      "cell_type": "markdown",
      "metadata": {
        "id": "bBEgs0iOohh5"
      },
      "source": [
        "ให้ใช้ list slicing เลือกมาเฉพาะเลขคู่"
      ]
    },
    {
      "cell_type": "code",
      "metadata": {
        "id": "ekrQGYqspI08"
      },
      "source": [
        "z[1:10:2]"
      ],
      "execution_count": null,
      "outputs": []
    },
    {
      "cell_type": "markdown",
      "metadata": {
        "id": "51NfRP38nKuw"
      },
      "source": [
        "ถ้าเว้นว่างหน้า:หมายความว่า เริ่มตั้งแต่ตัวแรก(0)\n",
        "\n",
        "ถ้าเว้นว่างหลัง:หมายความว่า ไปจนถึงตัวสุดท้าย(len(list))\n",
        "\n",
        "\n"
      ]
    },
    {
      "cell_type": "code",
      "metadata": {
        "id": "ktAhXAkToCr_"
      },
      "source": [
        "print(t)\n",
        "print(t[:6])\n",
        "print(t[10:])\n",
        "print(t[-4:])\n",
        "print(t[:])"
      ],
      "execution_count": null,
      "outputs": []
    },
    {
      "cell_type": "code",
      "metadata": {
        "id": "aEHw0figqQn-"
      },
      "source": [
        "print(z[::2])"
      ],
      "execution_count": null,
      "outputs": []
    },
    {
      "cell_type": "markdown",
      "metadata": {
        "id": "yoXZ2ysYr29J"
      },
      "source": [
        "###เราสามารถเอา list มาต่อกันได้ด้วย+"
      ]
    },
    {
      "cell_type": "code",
      "metadata": {
        "id": "pIc6pMUksC5_"
      },
      "source": [
        "t+ '??'"
      ],
      "execution_count": null,
      "outputs": []
    },
    {
      "cell_type": "code",
      "metadata": {
        "id": "Sg7Nq8OtsO8B"
      },
      "source": [
        "t + list b ## ไม่สามารถเอา list ปกติมาต่อกับ string ได้"
      ],
      "execution_count": null,
      "outputs": []
    },
    {
      "cell_type": "code",
      "metadata": {
        "id": "V9-OfHIvshU8"
      },
      "source": [
        "print(list_a)\n",
        "list_b = [111,'c','งง',aaa]\n",
        "print(list_b)\n",
        "print(list_b+list_a)"
      ],
      "execution_count": null,
      "outputs": []
    },
    {
      "cell_type": "code",
      "metadata": {
        "id": "GNM95-4UtFec"
      },
      "source": [
        "list_b.append(list_a)\n",
        "print(list_b)"
      ],
      "execution_count": null,
      "outputs": []
    },
    {
      "cell_type": "markdown",
      "metadata": {
        "id": "NBxpLaARt5X4"
      },
      "source": [
        "#### การแบ่ง string ตามสัญลักษณ์ที่กำหนด -> split string"
      ]
    },
    {
      "cell_type": "code",
      "metadata": {
        "id": "R2HJ30fNY2bP"
      },
      "source": [
        "t"
      ],
      "execution_count": null,
      "outputs": []
    },
    {
      "cell_type": "code",
      "metadata": {
        "id": "rzgpzWhbaiM1"
      },
      "source": [
        "t.split(' ')"
      ],
      "execution_count": null,
      "outputs": []
    },
    {
      "cell_type": "code",
      "metadata": {
        "id": "G4GzYjxQamHW"
      },
      "source": [
        "time = '12:30:15'"
      ],
      "execution_count": null,
      "outputs": []
    },
    {
      "cell_type": "code",
      "metadata": {
        "id": "o8rPjJguaqRp"
      },
      "source": [
        "time.split(':')"
      ],
      "execution_count": null,
      "outputs": []
    },
    {
      "cell_type": "code",
      "metadata": {
        "id": "aZCdXLtoat31"
      },
      "source": [
        "t_sp = t.split(' ')\n",
        "print(t_sp)"
      ],
      "execution_count": null,
      "outputs": []
    },
    {
      "cell_type": "code",
      "metadata": {
        "id": "9eU-c3QBayNV"
      },
      "source": [
        "## วิธีรวมกลับ\n",
        "print(':'.join(t_sp))"
      ],
      "execution_count": null,
      "outputs": []
    },
    {
      "cell_type": "markdown",
      "metadata": {
        "id": "CCIdIGzia5Sp"
      },
      "source": [
        "### HW คำนวณเวลาเป็นวินาทีของเวลาต่อไปนี้โดยใช้คำสั่ง split() ช่วย (print ออกมาให้สวยงาม)\n",
        "12:30:15\n",
        "\n",
        "13:41:07\n",
        "\n",
        "12:53:15\n",
        "\n",
        "00:59:25\n",
        "\n",
        "11:11:11\n",
        "\n",
        "16:06:09\n",
        "\n",
        "21:12:30\n",
        "\n",
        "10:06:15\n",
        "\n",
        "ตัวอย่าง > 00:01:10 = 70 วินาที\n",
        "\n",
        "ตัวอย่าง > 01:00:01 = 3601 วินาที "
      ]
    },
    {
      "cell_type": "code",
      "metadata": {
        "id": "2O1jCYKXbAaR"
      },
      "source": [
        "q1 = '12:30:15'\n",
        "q1.split(':')\n",
        "list_q1= [12,30,15]\n",
        "h1  = list_q1[0]*3600\n",
        "min1 = list_q1[1]*60\n",
        "sec1  = list_q1[2]\n",
        "ans1 = h1+min1+sec1 \n",
        "print(ans1,'วินาที')"
      ],
      "execution_count": null,
      "outputs": []
    },
    {
      "cell_type": "code",
      "metadata": {
        "id": "2xhooaZVbl4R"
      },
      "source": [
        "q2 = '13:41:07'\n",
        "q2.split(':')\n",
        "list_q2 = [13,41,7]\n",
        "h2  = list_q2[0]*3600\n",
        "min2 = list_q2[1]*60\n",
        "sec2  = list_q2[2]\n",
        "ans2 = h2+min2+sec2 \n",
        "print(ans2,'วินาที')"
      ],
      "execution_count": null,
      "outputs": []
    },
    {
      "cell_type": "code",
      "metadata": {
        "id": "E-5hq_7CbriK"
      },
      "source": [
        "q3 = '12:53:15'\n",
        "q3.split(':')\n",
        "list_q3 = [12,53,15]\n",
        "h3  = list_q3[0]*3600\n",
        "min3 = list_q3[1]*60\n",
        "sec3  = list_q3[2]\n",
        "ans3 = h3+min3+sec3 \n",
        "print(ans3,'วินาที')"
      ],
      "execution_count": null,
      "outputs": []
    },
    {
      "cell_type": "code",
      "metadata": {
        "id": "SZ79fxJMbwDp"
      },
      "source": [
        "q4 = '00:59:25'\n",
        "q4.split(':')\n",
        "list_q4 = [00,59,25]\n",
        "h4  = list_q4[0]*3600\n",
        "min4 = list_q4[1]*60\n",
        "sec4  = list_q4[2]\n",
        "ans4 = h4+min4+sec4 \n",
        "print(ans4,'วินาที')"
      ],
      "execution_count": null,
      "outputs": []
    },
    {
      "cell_type": "code",
      "metadata": {
        "id": "hqwOvUDAb0Hq"
      },
      "source": [
        "q5 = '11:11:11'\n",
        "q5.split(':')\n",
        "list_q5 = [11,11,11]\n",
        "h5  = list_q5[0]*3600\n",
        "min5 = list_q5[1]*60\n",
        "sec5  = list_q5[2]\n",
        "ans5 = h5+min5+sec5 \n",
        "print(ans5,'วินาที')"
      ],
      "execution_count": null,
      "outputs": []
    },
    {
      "cell_type": "code",
      "metadata": {
        "id": "ykW9OQpyb3Mt"
      },
      "source": [
        "q6 = '16:06:09'\n",
        "q6.split(':')\n",
        "list_q6 = [16,6,9]\n",
        "h6  = list_q6[0]*3600\n",
        "min6 = list_q6[1]*60\n",
        "sec6  = list_q6[2]\n",
        "ans6 = h6+min6+sec6 \n",
        "print(ans6,'วินาที')"
      ],
      "execution_count": null,
      "outputs": []
    },
    {
      "cell_type": "code",
      "metadata": {
        "id": "A_hUQw2db78H"
      },
      "source": [
        "q7 = '21:12:30'\n",
        "q7.split(':')\n",
        "list_q7 = [21,12,30]\n",
        "h7  = list_q7[0]*3600\n",
        "min7 = list_q7[1]*60\n",
        "sec7  = list_q7[2]\n",
        "ans7 = h7+min7+sec7 \n",
        "print(ans7,'วินาที')"
      ],
      "execution_count": null,
      "outputs": []
    },
    {
      "cell_type": "code",
      "metadata": {
        "id": "-Go_brO2cENh"
      },
      "source": [
        "q8 = '10:06:15'\n",
        "q8.split(':')\n",
        "list_q8 = [10,6,15]\n",
        "h8  = list_q8[0]*3600\n",
        "min8 = list_q8[1]*60\n",
        "sec8  = list_q8[2]\n",
        "ans8 = h8+min8+sec8 \n",
        "print(ans8,'วินาที')"
      ],
      "execution_count": null,
      "outputs": []
    },
    {
      "cell_type": "markdown",
      "metadata": {
        "id": "lTV_Kmreb63G"
      },
      "source": [
        "วิธีทำการบ้านที่ถูกต้อง"
      ]
    },
    {
      "cell_type": "code",
      "metadata": {
        "id": "grVzzqfCb-Ym",
        "outputId": "38fa9c18-d5b3-49d0-89aa-9bc2637142b8",
        "colab": {
          "base_uri": "https://localhost:8080/"
        }
      },
      "source": [
        "q1 = '12:30:15'\n",
        "q1_sp = q1.split(':')\n",
        "ans1 = int(q1_sp[0])*3600 + int(q1_sp[1])*60 + int(q1_sp[2]) # int เปลี่ยนข้อความเป็นตัวเลข\n",
        "print(ans1,'วินาที')"
      ],
      "execution_count": 10,
      "outputs": [
        {
          "output_type": "stream",
          "text": [
            "45015 วินาที\n"
          ],
          "name": "stdout"
        }
      ]
    }
  ]
}