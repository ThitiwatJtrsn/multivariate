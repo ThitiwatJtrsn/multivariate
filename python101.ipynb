{
  "nbformat": 4,
  "nbformat_minor": 0,
  "metadata": {
    "colab": {
      "name": "python101.ipynb",
      "provenance": [],
      "authorship_tag": "ABX9TyMyYPIk1da3wRLOLKurOyJB",
      "include_colab_link": true
    },
    "kernelspec": {
      "name": "python3",
      "display_name": "Python 3"
    }
  },
  "cells": [
    {
      "cell_type": "markdown",
      "metadata": {
        "id": "view-in-github",
        "colab_type": "text"
      },
      "source": [
        "<a href=\"https://colab.research.google.com/github/ThitiwatJtrsn/multivariate/blob/main/python101.ipynb\" target=\"_parent\"><img src=\"https://colab.research.google.com/assets/colab-badge.svg\" alt=\"Open In Colab\"/></a>"
      ]
    },
    {
      "cell_type": "markdown",
      "metadata": {
        "id": "8GxQwafKLmbV"
      },
      "source": [
        "ตัวแปร variable"
      ]
    },
    {
      "cell_type": "markdown",
      "metadata": {
        "id": "ArphqoYXMIbc"
      },
      "source": [
        "หลักการตั้งค่าชื่อตัวแปรเบื้องต้น\n",
        "\n",
        "1.   ตั้งให้สื่อ\n",
        "2.   ภาษาอังกฤษ\n",
        "3.   ใช้ตัวเลขได้แต่ห้ามขึ้นต้นด้วยตัวเลข\n",
        "4.   ห้ามเว้นวรรค\n",
        "5.   ตัวเล็กกับตัวใหญ่ไม่เหมือนกัน\n",
        "\n"
      ]
    },
    {
      "cell_type": "markdown",
      "metadata": {
        "id": "6SBWKlGXMxFa"
      },
      "source": [
        "มี output 2 mode : ออกหน้าจอ กับ เข้าไปเก็บในตัวแปร"
      ]
    },
    {
      "cell_type": "code",
      "metadata": {
        "colab": {
          "base_uri": "https://localhost:8080/"
        },
        "id": "sZbY_tKfM2Gh",
        "outputId": "66acba50-9fe1-4095-dca8-ff638d01e0f4"
      },
      "source": [
        "3.14159  # hashtag หรือ sharp # คือ comment >>> อันนี้คือ output ที่ออกหน้าจอ"
      ],
      "execution_count": 41,
      "outputs": [
        {
          "output_type": "execute_result",
          "data": {
            "text/plain": [
              "3.14159"
            ]
          },
          "metadata": {
            "tags": []
          },
          "execution_count": 41
        }
      ]
    },
    {
      "cell_type": "code",
      "metadata": {
        "id": "twKNQ7mAKXRD"
      },
      "source": [
        "Pi = 3.14159  # อันนี้คือ output ที่เข้าไปอยู่ในตัวแปร"
      ],
      "execution_count": 42,
      "outputs": []
    },
    {
      "cell_type": "code",
      "metadata": {
        "colab": {
          "base_uri": "https://localhost:8080/"
        },
        "id": "Vxm3AcJRNFPu",
        "outputId": "da2d5003-45a2-4e66-d365-5dcf643f0006"
      },
      "source": [
        "Pi"
      ],
      "execution_count": 43,
      "outputs": [
        {
          "output_type": "execute_result",
          "data": {
            "text/plain": [
              "3.14159"
            ]
          },
          "metadata": {
            "tags": []
          },
          "execution_count": 43
        }
      ]
    },
    {
      "cell_type": "code",
      "metadata": {
        "colab": {
          "base_uri": "https://localhost:8080/"
        },
        "id": "9oD01fWcNXIE",
        "outputId": "75a58ee4-90a0-4cff-f0cb-76768d9dc74c"
      },
      "source": [
        "a = 1234567\n",
        "print(a)"
      ],
      "execution_count": 44,
      "outputs": [
        {
          "output_type": "stream",
          "text": [
            "1234567\n"
          ],
          "name": "stdout"
        }
      ]
    },
    {
      "cell_type": "markdown",
      "metadata": {
        "id": "ASRyM1wkOZXX"
      },
      "source": [
        "#ชนิดของตัวแปร 3 ชนิด"
      ]
    },
    {
      "cell_type": "markdown",
      "metadata": {
        "id": "UBy-b6n-Oima"
      },
      "source": [
        "## จำนวนเต็ม (integer,int)"
      ]
    },
    {
      "cell_type": "code",
      "metadata": {
        "colab": {
          "base_uri": "https://localhost:8080/"
        },
        "id": "aH21ARSdOwPu",
        "outputId": "441bc07a-182e-478d-deda-933f2c3176b4"
      },
      "source": [
        "aaa = 1092\n",
        "print(aaa)"
      ],
      "execution_count": 46,
      "outputs": [
        {
          "output_type": "stream",
          "text": [
            "1092\n"
          ],
          "name": "stdout"
        }
      ]
    },
    {
      "cell_type": "markdown",
      "metadata": {
        "id": "ZQ9v-2EwO5-T"
      },
      "source": [
        "## จำนวนจริง (float)"
      ]
    },
    {
      "cell_type": "code",
      "metadata": {
        "colab": {
          "base_uri": "https://localhost:8080/"
        },
        "id": "lwmLUhL2PAke",
        "outputId": "29f221d9-b89a-429e-e076-db3a5c07dff6"
      },
      "source": [
        "bbb = 11.\n",
        "print(bbb)"
      ],
      "execution_count": 47,
      "outputs": [
        {
          "output_type": "stream",
          "text": [
            "11.0\n"
          ],
          "name": "stdout"
        }
      ]
    },
    {
      "cell_type": "markdown",
      "metadata": {
        "id": "aRKmI5ebPNrB"
      },
      "source": [
        "## ตัวอักษร-ข้อความ (character และ text,string)"
      ]
    },
    {
      "cell_type": "code",
      "metadata": {
        "colab": {
          "base_uri": "https://localhost:8080/"
        },
        "id": "urACHKZCPan8",
        "outputId": "6581c82f-9d1c-4117-888a-880dd6c86e9d"
      },
      "source": [
        "ccc = '123456' # เราใช้ single quote ' sinv double quote '' ล้อมรอบตัวหนังสือเพื่อระบุว่าเป็น character-string\n",
        "print(ccc)"
      ],
      "execution_count": 48,
      "outputs": [
        {
          "output_type": "stream",
          "text": [
            "123456\n"
          ],
          "name": "stdout"
        }
      ]
    },
    {
      "cell_type": "code",
      "metadata": {
        "colab": {
          "base_uri": "https://localhost:8080/"
        },
        "id": "-Lu2zIwzP-bz",
        "outputId": "70608a30-86c5-485b-a7c4-cb5bf4497a6f"
      },
      "source": [
        "aaa + bbb # float + int  = float"
      ],
      "execution_count": 49,
      "outputs": [
        {
          "output_type": "execute_result",
          "data": {
            "text/plain": [
              "1103.0"
            ]
          },
          "metadata": {
            "tags": []
          },
          "execution_count": 49
        }
      ]
    },
    {
      "cell_type": "code",
      "metadata": {
        "colab": {
          "base_uri": "https://localhost:8080/",
          "height": 164
        },
        "id": "lDwz5tdSQIXE",
        "outputId": "1b459a8a-0863-47ff-f23d-19a13bffc1ca"
      },
      "source": [
        "bbb + ccc"
      ],
      "execution_count": 50,
      "outputs": [
        {
          "output_type": "error",
          "ename": "TypeError",
          "evalue": "ignored",
          "traceback": [
            "\u001b[0;31m---------------------------------------------------------------------------\u001b[0m",
            "\u001b[0;31mTypeError\u001b[0m                                 Traceback (most recent call last)",
            "\u001b[0;32m<ipython-input-50-a3916046ad1c>\u001b[0m in \u001b[0;36m<module>\u001b[0;34m()\u001b[0m\n\u001b[0;32m----> 1\u001b[0;31m \u001b[0mbbb\u001b[0m \u001b[0;34m+\u001b[0m \u001b[0mccc\u001b[0m\u001b[0;34m\u001b[0m\u001b[0;34m\u001b[0m\u001b[0m\n\u001b[0m",
            "\u001b[0;31mTypeError\u001b[0m: unsupported operand type(s) for +: 'float' and 'str'"
          ]
        }
      ]
    },
    {
      "cell_type": "code",
      "metadata": {
        "id": "rXUBBWnOQpdB",
        "outputId": "a086d198-7f21-48e5-a6e4-abcbabf8267a",
        "colab": {
          "base_uri": "https://localhost:8080/"
        }
      },
      "source": [
        "ddd = 'ฐิติวัฒน์'\n",
        "print(ddd)"
      ],
      "execution_count": 51,
      "outputs": [
        {
          "output_type": "stream",
          "text": [
            "ฐิติวัฒน์\n"
          ],
          "name": "stdout"
        }
      ]
    },
    {
      "cell_type": "markdown",
      "metadata": {
        "id": "8irZAKZUQ15L"
      },
      "source": [
        "## การเปลี่ยนชนิดของตัวแปร variable casting"
      ]
    },
    {
      "cell_type": "code",
      "metadata": {
        "id": "6WqBl98XQ_ZO",
        "outputId": "d265fea9-3717-4cf9-987a-0d2d39d781c6",
        "colab": {
          "base_uri": "https://localhost:8080/"
        }
      },
      "source": [
        "aaa + int(ccc)"
      ],
      "execution_count": 52,
      "outputs": [
        {
          "output_type": "execute_result",
          "data": {
            "text/plain": [
              "124548"
            ]
          },
          "metadata": {
            "tags": []
          },
          "execution_count": 52
        }
      ]
    },
    {
      "cell_type": "code",
      "metadata": {
        "id": "9vmphLkuRji3",
        "outputId": "e0c43d1b-2920-447b-bd2d-47c9727e05d6",
        "colab": {
          "base_uri": "https://localhost:8080/"
        }
      },
      "source": [
        "aaa + float(ccc)"
      ],
      "execution_count": 53,
      "outputs": [
        {
          "output_type": "execute_result",
          "data": {
            "text/plain": [
              "124548.0"
            ]
          },
          "metadata": {
            "tags": []
          },
          "execution_count": 53
        }
      ]
    },
    {
      "cell_type": "code",
      "metadata": {
        "id": "1irBAuZkRosJ",
        "outputId": "5a9f6751-af0d-4de5-c8d8-525340bc6e84",
        "colab": {
          "base_uri": "https://localhost:8080/",
          "height": 37
        }
      },
      "source": [
        "str(aaa)"
      ],
      "execution_count": 54,
      "outputs": [
        {
          "output_type": "execute_result",
          "data": {
            "application/vnd.google.colaboratory.intrinsic+json": {
              "type": "string"
            },
            "text/plain": [
              "'1092'"
            ]
          },
          "metadata": {
            "tags": []
          },
          "execution_count": 54
        }
      ]
    },
    {
      "cell_type": "markdown",
      "metadata": {
        "id": "8CvAVNycSUGV"
      },
      "source": [
        "## การดำเนินการ (Operators +,-,*,/,%)"
      ]
    },
    {
      "cell_type": "code",
      "metadata": {
        "id": "UrQRghr8StPx",
        "outputId": "58192273-481f-455c-f181-1fafc7b18e9e",
        "colab": {
          "base_uri": "https://localhost:8080/",
          "height": 164
        }
      },
      "source": [
        "a+b"
      ],
      "execution_count": 55,
      "outputs": [
        {
          "output_type": "error",
          "ename": "NameError",
          "evalue": "ignored",
          "traceback": [
            "\u001b[0;31m---------------------------------------------------------------------------\u001b[0m",
            "\u001b[0;31mNameError\u001b[0m                                 Traceback (most recent call last)",
            "\u001b[0;32m<ipython-input-55-ca730b97bf8a>\u001b[0m in \u001b[0;36m<module>\u001b[0;34m()\u001b[0m\n\u001b[0;32m----> 1\u001b[0;31m \u001b[0ma\u001b[0m\u001b[0;34m+\u001b[0m\u001b[0mb\u001b[0m\u001b[0;34m\u001b[0m\u001b[0;34m\u001b[0m\u001b[0m\n\u001b[0m",
            "\u001b[0;31mNameError\u001b[0m: name 'b' is not defined"
          ]
        }
      ]
    },
    {
      "cell_type": "code",
      "metadata": {
        "id": "qev6ApcFSyNs",
        "outputId": "dcace6ad-16a0-4f1d-87b8-030931953edd",
        "colab": {
          "base_uri": "https://localhost:8080/"
        }
      },
      "source": [
        "aaa + bbb"
      ],
      "execution_count": 56,
      "outputs": [
        {
          "output_type": "execute_result",
          "data": {
            "text/plain": [
              "1103.0"
            ]
          },
          "metadata": {
            "tags": []
          },
          "execution_count": 56
        }
      ]
    },
    {
      "cell_type": "code",
      "metadata": {
        "id": "QqPdPGs8S1ol",
        "outputId": "dc6a27f1-4c83-4625-b67c-e64bf856c6c2",
        "colab": {
          "base_uri": "https://localhost:8080/"
        }
      },
      "source": [
        "aaa - bbb"
      ],
      "execution_count": 57,
      "outputs": [
        {
          "output_type": "execute_result",
          "data": {
            "text/plain": [
              "1081.0"
            ]
          },
          "metadata": {
            "tags": []
          },
          "execution_count": 57
        }
      ]
    },
    {
      "cell_type": "code",
      "metadata": {
        "id": "CC6q3IPBS6P0",
        "outputId": "f9c8164f-e6dd-44eb-f209-91a3415dedde",
        "colab": {
          "base_uri": "https://localhost:8080/"
        }
      },
      "source": [
        "ab = aaa*bbb\n",
        "print(ab)"
      ],
      "execution_count": 58,
      "outputs": [
        {
          "output_type": "stream",
          "text": [
            "12012.0\n"
          ],
          "name": "stdout"
        }
      ]
    },
    {
      "cell_type": "code",
      "metadata": {
        "id": "3jUS5dzwTBdS",
        "outputId": "d204f032-1f79-48b3-f528-d63cfb0a0534",
        "colab": {
          "base_uri": "https://localhost:8080/"
        }
      },
      "source": [
        "ab + int(ccc)"
      ],
      "execution_count": 59,
      "outputs": [
        {
          "output_type": "execute_result",
          "data": {
            "text/plain": [
              "135468.0"
            ]
          },
          "metadata": {
            "tags": []
          },
          "execution_count": 59
        }
      ]
    },
    {
      "cell_type": "markdown",
      "metadata": {
        "id": "UPpWGEw5Tb4E"
      },
      "source": [
        "## % คือหมาย modulo"
      ]
    },
    {
      "cell_type": "code",
      "metadata": {
        "id": "VhMD1ByiTkoz",
        "outputId": "2fff6525-6d7e-4f2a-a73f-c40f5322de85",
        "colab": {
          "base_uri": "https://localhost:8080/"
        }
      },
      "source": [
        "5%3"
      ],
      "execution_count": 60,
      "outputs": [
        {
          "output_type": "execute_result",
          "data": {
            "text/plain": [
              "2"
            ]
          },
          "metadata": {
            "tags": []
          },
          "execution_count": 60
        }
      ]
    },
    {
      "cell_type": "code",
      "metadata": {
        "id": "h3Vls4PeTsf6",
        "outputId": "9e8949c5-6213-4e0c-82c6-10051683e595",
        "colab": {
          "base_uri": "https://localhost:8080/"
        }
      },
      "source": [
        "7%3"
      ],
      "execution_count": 61,
      "outputs": [
        {
          "output_type": "execute_result",
          "data": {
            "text/plain": [
              "1"
            ]
          },
          "metadata": {
            "tags": []
          },
          "execution_count": 61
        }
      ]
    },
    {
      "cell_type": "markdown",
      "metadata": {
        "id": "T-CJVfAxUFkK"
      },
      "source": [
        "## คำสั่ง print แบบพิเศษ ("
      ]
    },
    {
      "cell_type": "code",
      "metadata": {
        "id": "5_fvERV0UTt6",
        "outputId": "27c7a857-b8b9-495a-8f52-1df4acac32da",
        "colab": {
          "base_uri": "https://localhost:8080/"
        }
      },
      "source": [
        "print('ตัวแปร') #สิ่งที่อยู่ข้างในวงเล็บ ตัวแปร  และ string"
      ],
      "execution_count": 62,
      "outputs": [
        {
          "output_type": "stream",
          "text": [
            "ตัวแปร\n"
          ],
          "name": "stdout"
        }
      ]
    },
    {
      "cell_type": "code",
      "metadata": {
        "id": "04XQINc-UkUo",
        "outputId": "86289361-8b05-4e09-ac6f-c77e4fcd2eae",
        "colab": {
          "base_uri": "https://localhost:8080/"
        }
      },
      "source": [
        "print(f'% คือการเอาเศษ เช่น 7%3) = {7%3}') # เพิ่ท f หน้า 'string' และใช้ {} ใส่ code"
      ],
      "execution_count": 63,
      "outputs": [
        {
          "output_type": "stream",
          "text": [
            "% คือการเอาเศษ เช่น 7%3) = 1\n"
          ],
          "name": "stdout"
        }
      ]
    },
    {
      "cell_type": "code",
      "metadata": {
        "id": "WCmOZPW4U6w8",
        "outputId": "e1052c52-5740-4e83-9114-3915f4ec5f3b",
        "colab": {
          "base_uri": "https://localhost:8080/",
          "height": 130
        }
      },
      "source": [
        "print(f'% คือการหารเอาเศษ เช่น 7%3 = {7%3}') \\\n",
        "   แต่\\n/"
      ],
      "execution_count": 64,
      "outputs": [
        {
          "output_type": "error",
          "ename": "SyntaxError",
          "evalue": "ignored",
          "traceback": [
            "\u001b[0;36m  File \u001b[0;32m\"<ipython-input-64-812baba36a49>\"\u001b[0;36m, line \u001b[0;32m1\u001b[0m\n\u001b[0;31m    print(f'% คือการหารเอาเศษ เช่น 7%3 = {7%3}')    แต่\\n/\u001b[0m\n\u001b[0m                                                      ^\u001b[0m\n\u001b[0;31mSyntaxError\u001b[0m\u001b[0;31m:\u001b[0m invalid syntax\n"
          ]
        }
      ]
    },
    {
      "cell_type": "markdown",
      "metadata": {
        "id": "Wpqv9SABW8VB"
      },
      "source": [
        "## DATA STRUCTURE (โครงสร้างข้อมูล)"
      ]
    },
    {
      "cell_type": "code",
      "metadata": {
        "id": "XIRklNHMXZqJ",
        "outputId": "5b911342-b9e0-4060-eb12-3c16bd63138f",
        "colab": {
          "base_uri": "https://localhost:8080/"
        }
      },
      "source": [
        "[111,'c','งง',aaa]"
      ],
      "execution_count": 65,
      "outputs": [
        {
          "output_type": "execute_result",
          "data": {
            "text/plain": [
              "[111, 'c', 'งง', 1092]"
            ]
          },
          "metadata": {
            "tags": []
          },
          "execution_count": 65
        }
      ]
    },
    {
      "cell_type": "markdown",
      "metadata": {
        "id": "hjx9tN5FXHo7"
      },
      "source": [
        "### list คือ การเอาข้อมูลหลายๆตัวมาเรียงต่อกัน\n",
        "#### list สามารถสร้างได้ 2 แบบ ดังนี้"
      ]
    },
    {
      "cell_type": "markdown",
      "metadata": {
        "id": "vfqSwYz-XyEg"
      },
      "source": [
        "#### แบบที่1 > square brackets"
      ]
    },
    {
      "cell_type": "code",
      "metadata": {
        "id": "g11VlIYRb7qM",
        "outputId": "3d56650b-0880-4d3c-a004-b5f691446c2d",
        "colab": {
          "base_uri": "https://localhost:8080/"
        }
      },
      "source": [
        "list_a = []\n",
        "print(list_a)"
      ],
      "execution_count": 68,
      "outputs": [
        {
          "output_type": "stream",
          "text": [
            "[]\n"
          ],
          "name": "stdout"
        }
      ]
    },
    {
      "cell_type": "code",
      "metadata": {
        "id": "XvEOa7mBcAhK",
        "outputId": "6fec9b2d-d8f2-47c1-d7d7-4c4184a70789",
        "colab": {
          "base_uri": "https://localhost:8080/"
        }
      },
      "source": [
        "list_b = [111,'c','งง',aaa]\n",
        "print(list_b)"
      ],
      "execution_count": 69,
      "outputs": [
        {
          "output_type": "stream",
          "text": [
            "[111, 'c', 'งง', 1092]\n"
          ],
          "name": "stdout"
        }
      ]
    },
    {
      "cell_type": "markdown",
      "metadata": {
        "id": "uk8bBkklc-iu"
      },
      "source": [
        "### ลำดับที่อยู่ใน list มีความสำคัญ (ลำดับใน list เริ่มจาก 0,1,2,...) "
      ]
    },
    {
      "cell_type": "code",
      "metadata": {
        "id": "BSvFbZVOdAH8",
        "outputId": "6d0c83a1-80b4-4fec-8ee6-11f655929029",
        "colab": {
          "base_uri": "https://localhost:8080/",
          "height": 37
        }
      },
      "source": [
        "list_b[2]"
      ],
      "execution_count": 70,
      "outputs": [
        {
          "output_type": "execute_result",
          "data": {
            "application/vnd.google.colaboratory.intrinsic+json": {
              "type": "string"
            },
            "text/plain": [
              "'งง'"
            ]
          },
          "metadata": {
            "tags": []
          },
          "execution_count": 70
        }
      ]
    },
    {
      "cell_type": "markdown",
      "metadata": {
        "id": "TklEHei2dopk"
      },
      "source": [
        "#### แบบที่2"
      ]
    },
    {
      "cell_type": "code",
      "metadata": {
        "id": "Xlz9JLuydpxP",
        "outputId": "571ac8b4-867f-4239-eaf3-bb4c15257c97",
        "colab": {
          "base_uri": "https://localhost:8080/"
        }
      },
      "source": [
        "list_c = list()\n",
        "print(list_c)"
      ],
      "execution_count": 71,
      "outputs": [
        {
          "output_type": "stream",
          "text": [
            "[]\n"
          ],
          "name": "stdout"
        }
      ]
    },
    {
      "cell_type": "markdown",
      "metadata": {
        "id": "j1U-ezqRdyJ-"
      },
      "source": [
        "## append() เพิ่มสมาชิกใน list"
      ]
    },
    {
      "cell_type": "code",
      "metadata": {
        "id": "2m5bR5widzNh",
        "outputId": "a04b33f0-c494-4a7e-c1af-b9eaa8928153",
        "colab": {
          "base_uri": "https://localhost:8080/"
        }
      },
      "source": [
        "list_b.append('u')\n",
        "print(list_b)"
      ],
      "execution_count": 72,
      "outputs": [
        {
          "output_type": "stream",
          "text": [
            "[111, 'c', 'งง', 1092, 'u']\n"
          ],
          "name": "stdout"
        }
      ]
    },
    {
      "cell_type": "markdown",
      "metadata": {
        "id": "cMWvnjTUd7bT"
      },
      "source": [
        "ตัวที่อยู่ในวงเล็บหลังจากตัวแปร list เรียกว่า index ใช้สำหรับชี้ข้อมูลใน list \n",
        "\n",
        "(ชี้จากข้างหน้า,ชี้จากข้างหลัง)\n",
        "\n",
        "0 คือสมาชิกตัวแรก , -1 คือสมาชิกตัวสุดท้าย"
      ]
    },
    {
      "cell_type": "code",
      "metadata": {
        "id": "MLcf8Gj6d_7o",
        "outputId": "f15491a7-f960-478a-a75c-efb99b558d48",
        "colab": {
          "base_uri": "https://localhost:8080/",
          "height": 37
        }
      },
      "source": [
        "list_b[-1] "
      ],
      "execution_count": 73,
      "outputs": [
        {
          "output_type": "execute_result",
          "data": {
            "application/vnd.google.colaboratory.intrinsic+json": {
              "type": "string"
            },
            "text/plain": [
              "'u'"
            ]
          },
          "metadata": {
            "tags": []
          },
          "execution_count": 73
        }
      ]
    },
    {
      "cell_type": "markdown",
      "metadata": {
        "id": "ADv-ntQtec7-"
      },
      "source": [
        "## String > list of characters"
      ]
    },
    {
      "cell_type": "code",
      "metadata": {
        "id": "c784cmpheeEB",
        "colab": {
          "base_uri": "https://localhost:8080/"
        },
        "outputId": "266718af-7924-446b-b085-74ba68b365d7"
      },
      "source": [
        "t = 'python is easy'\n",
        "print(t)"
      ],
      "execution_count": 74,
      "outputs": [
        {
          "output_type": "stream",
          "text": [
            "python is easy\n"
          ],
          "name": "stdout"
        }
      ]
    },
    {
      "cell_type": "code",
      "metadata": {
        "id": "pcfCdWCUelCo",
        "outputId": "7841432d-df3d-4d5a-ae83-266c19988f47",
        "colab": {
          "base_uri": "https://localhost:8080/",
          "height": 37
        }
      },
      "source": [
        "t[1]"
      ],
      "execution_count": 75,
      "outputs": [
        {
          "output_type": "execute_result",
          "data": {
            "application/vnd.google.colaboratory.intrinsic+json": {
              "type": "string"
            },
            "text/plain": [
              "'y'"
            ]
          },
          "metadata": {
            "tags": []
          },
          "execution_count": 75
        }
      ]
    },
    {
      "cell_type": "code",
      "metadata": {
        "id": "hM-h7W_oemy7",
        "outputId": "5eb79221-b749-4f6f-d3f0-a2336c80b4af",
        "colab": {
          "base_uri": "https://localhost:8080/",
          "height": 37
        }
      },
      "source": [
        "t[-4]"
      ],
      "execution_count": 77,
      "outputs": [
        {
          "output_type": "execute_result",
          "data": {
            "application/vnd.google.colaboratory.intrinsic+json": {
              "type": "string"
            },
            "text/plain": [
              "'e'"
            ]
          },
          "metadata": {
            "tags": []
          },
          "execution_count": 77
        }
      ]
    },
    {
      "cell_type": "code",
      "metadata": {
        "id": "nslvSqwPetNS",
        "outputId": "2dce4645-6a50-4adf-f216-64fe536f05e8",
        "colab": {
          "base_uri": "https://localhost:8080/",
          "height": 37
        }
      },
      "source": [
        "t[6]"
      ],
      "execution_count": 76,
      "outputs": [
        {
          "output_type": "execute_result",
          "data": {
            "application/vnd.google.colaboratory.intrinsic+json": {
              "type": "string"
            },
            "text/plain": [
              "' '"
            ]
          },
          "metadata": {
            "tags": []
          },
          "execution_count": 76
        }
      ]
    },
    {
      "cell_type": "markdown",
      "metadata": {
        "id": "CbsKFXB2hhSy"
      },
      "source": [
        "### จบ 5 มค 2011"
      ]
    },
    {
      "cell_type": "markdown",
      "metadata": {
        "id": "KHY_9VfzhovC"
      },
      "source": [
        "## คาบ 3 11 มค 2021"
      ]
    },
    {
      "cell_type": "code",
      "metadata": {
        "id": "CUd4baQBhwe-",
        "colab": {
          "base_uri": "https://localhost:8080/"
        },
        "outputId": "0c8749fc-5da0-41b1-bbb1-17a25be87176"
      },
      "source": [
        "len(t)"
      ],
      "execution_count": 78,
      "outputs": [
        {
          "output_type": "execute_result",
          "data": {
            "text/plain": [
              "14"
            ]
          },
          "metadata": {
            "tags": []
          },
          "execution_count": 78
        }
      ]
    },
    {
      "cell_type": "code",
      "metadata": {
        "id": "j0gIdwzUiwE3",
        "colab": {
          "base_uri": "https://localhost:8080/"
        },
        "outputId": "6f61d477-5b72-40e0-e767-1c3a78c95826"
      },
      "source": [
        "len(list_b)# len คือคำสั่งตรวจสอบตวามยาวของ list (จำนวนสมาชิก)"
      ],
      "execution_count": 79,
      "outputs": [
        {
          "output_type": "execute_result",
          "data": {
            "text/plain": [
              "5"
            ]
          },
          "metadata": {
            "tags": []
          },
          "execution_count": 79
        }
      ]
    },
    {
      "cell_type": "code",
      "metadata": {
        "id": "SOrwENDak6dQ",
        "colab": {
          "base_uri": "https://localhost:8080/"
        },
        "outputId": "be955ee9-b217-44d0-9ef5-092bd89a7c4a"
      },
      "source": [
        "list_b"
      ],
      "execution_count": 80,
      "outputs": [
        {
          "output_type": "execute_result",
          "data": {
            "text/plain": [
              "[111, 'c', 'งง', 1092, 'u']"
            ]
          },
          "metadata": {
            "tags": []
          },
          "execution_count": 80
        }
      ]
    },
    {
      "cell_type": "code",
      "metadata": {
        "id": "KJsp3wEilIJv",
        "colab": {
          "base_uri": "https://localhost:8080/"
        },
        "outputId": "88d0e461-bd84-422d-944c-77d0bc6b9994"
      },
      "source": [
        "list_b.append(t)\n",
        "print(list_b)"
      ],
      "execution_count": 81,
      "outputs": [
        {
          "output_type": "stream",
          "text": [
            "[111, 'c', 'งง', 1092, 'u', 'python is easy']\n"
          ],
          "name": "stdout"
        }
      ]
    },
    {
      "cell_type": "markdown",
      "metadata": {
        "id": "3UMRl1hClxZ4"
      },
      "source": [
        "ตัวที่อยู่ข้างใน[] เราเรียกว่า index (ตัวชี้)"
      ]
    },
    {
      "cell_type": "markdown",
      "metadata": {
        "id": "UpHQEJQfldvk"
      },
      "source": [
        "###List slicing สามารถทำได้โดยใช้ colon: "
      ]
    },
    {
      "cell_type": "markdown",
      "metadata": {
        "id": "0cuOvX30msip"
      },
      "source": [
        "[a:]->[a,b]"
      ]
    },
    {
      "cell_type": "code",
      "metadata": {
        "id": "dqx420A6l63d",
        "colab": {
          "base_uri": "https://localhost:8080/"
        },
        "outputId": "01463ca8-cb0c-4a77-ebca-a57908812f9a"
      },
      "source": [
        "print(t)\n",
        "print(t[7:9])\n",
        "print(len(t[7:9]))"
      ],
      "execution_count": 82,
      "outputs": [
        {
          "output_type": "stream",
          "text": [
            "python is easy\n",
            "is\n",
            "2\n"
          ],
          "name": "stdout"
        }
      ]
    },
    {
      "cell_type": "code",
      "metadata": {
        "id": "bX-QaXQmnqxl",
        "colab": {
          "base_uri": "https://localhost:8080/",
          "height": 37
        },
        "outputId": "37da2c70-a03b-4734-cee8-9cbd2b8bb069"
      },
      "source": [
        "t[0:14:2]"
      ],
      "execution_count": 83,
      "outputs": [
        {
          "output_type": "execute_result",
          "data": {
            "application/vnd.google.colaboratory.intrinsic+json": {
              "type": "string"
            },
            "text/plain": [
              "'pto ses'"
            ]
          },
          "metadata": {
            "tags": []
          },
          "execution_count": 83
        }
      ]
    },
    {
      "cell_type": "code",
      "metadata": {
        "id": "SslChqjSoPfG"
      },
      "source": [
        "z = [1,2,3,4,5,6,7,8,9,10]\n"
      ],
      "execution_count": 84,
      "outputs": []
    },
    {
      "cell_type": "markdown",
      "metadata": {
        "id": "XtrX73iPodxX"
      },
      "source": [
        "### quiz"
      ]
    },
    {
      "cell_type": "markdown",
      "metadata": {
        "id": "bBEgs0iOohh5"
      },
      "source": [
        "ให้ใช้ list slicing เลือกมาเฉพาะเลขคู่"
      ]
    },
    {
      "cell_type": "code",
      "metadata": {
        "id": "ekrQGYqspI08",
        "colab": {
          "base_uri": "https://localhost:8080/"
        },
        "outputId": "231b598a-106f-4d76-c713-a20c008718e5"
      },
      "source": [
        "z[1:10:2]"
      ],
      "execution_count": 85,
      "outputs": [
        {
          "output_type": "execute_result",
          "data": {
            "text/plain": [
              "[2, 4, 6, 8, 10]"
            ]
          },
          "metadata": {
            "tags": []
          },
          "execution_count": 85
        }
      ]
    },
    {
      "cell_type": "markdown",
      "metadata": {
        "id": "51NfRP38nKuw"
      },
      "source": [
        "ถ้าเว้นว่างหน้า:หมายความว่า เริ่มตั้งแต่ตัวแรก(0)\n",
        "\n",
        "ถ้าเว้นว่างหลัง:หมายความว่า ไปจนถึงตัวสุดท้าย(len(list))\n",
        "\n",
        "\n"
      ]
    },
    {
      "cell_type": "code",
      "metadata": {
        "id": "ktAhXAkToCr_",
        "colab": {
          "base_uri": "https://localhost:8080/"
        },
        "outputId": "c63c4605-05c5-44a5-eb30-cc8f3d21e84c"
      },
      "source": [
        "print(t)\n",
        "print(t[:6])\n",
        "print(t[10:])\n",
        "print(t[-4:])\n",
        "print(t[:])"
      ],
      "execution_count": 86,
      "outputs": [
        {
          "output_type": "stream",
          "text": [
            "python is easy\n",
            "python\n",
            "easy\n",
            "easy\n",
            "python is easy\n"
          ],
          "name": "stdout"
        }
      ]
    },
    {
      "cell_type": "code",
      "metadata": {
        "id": "aEHw0figqQn-",
        "colab": {
          "base_uri": "https://localhost:8080/"
        },
        "outputId": "4d8eef90-1ac6-457f-8f0e-7c1bbf56559a"
      },
      "source": [
        "print(z[::2])"
      ],
      "execution_count": 87,
      "outputs": [
        {
          "output_type": "stream",
          "text": [
            "[1, 3, 5, 7, 9]\n"
          ],
          "name": "stdout"
        }
      ]
    },
    {
      "cell_type": "markdown",
      "metadata": {
        "id": "yoXZ2ysYr29J"
      },
      "source": [
        "###เราสามารถเอา list มาต่อกันได้ด้วย+"
      ]
    },
    {
      "cell_type": "code",
      "metadata": {
        "id": "pIc6pMUksC5_",
        "colab": {
          "base_uri": "https://localhost:8080/",
          "height": 37
        },
        "outputId": "d7a816c7-2360-40b2-ad38-6028b8bbbe57"
      },
      "source": [
        "t+ '??'"
      ],
      "execution_count": 88,
      "outputs": [
        {
          "output_type": "execute_result",
          "data": {
            "application/vnd.google.colaboratory.intrinsic+json": {
              "type": "string"
            },
            "text/plain": [
              "'python is easy??'"
            ]
          },
          "metadata": {
            "tags": []
          },
          "execution_count": 88
        }
      ]
    },
    {
      "cell_type": "code",
      "metadata": {
        "id": "Sg7Nq8OtsO8B",
        "colab": {
          "base_uri": "https://localhost:8080/",
          "height": 130
        },
        "outputId": "416e593f-5481-453c-c245-cdb98bb96c3d"
      },
      "source": [
        "t + list b ## ไม่สามารถเอา list ปกติมาต่อกับ string ได้"
      ],
      "execution_count": 89,
      "outputs": [
        {
          "output_type": "error",
          "ename": "SyntaxError",
          "evalue": "ignored",
          "traceback": [
            "\u001b[0;36m  File \u001b[0;32m\"<ipython-input-89-ba4d8d39a670>\"\u001b[0;36m, line \u001b[0;32m1\u001b[0m\n\u001b[0;31m    t + list b ## ไม่สามารถเอา list ปกติมาต่อกับ string ได้\u001b[0m\n\u001b[0m             ^\u001b[0m\n\u001b[0;31mSyntaxError\u001b[0m\u001b[0;31m:\u001b[0m invalid syntax\n"
          ]
        }
      ]
    },
    {
      "cell_type": "code",
      "metadata": {
        "id": "V9-OfHIvshU8",
        "colab": {
          "base_uri": "https://localhost:8080/"
        },
        "outputId": "86ea414d-20a8-4a2b-a85e-33167b77402d"
      },
      "source": [
        "print(list_a)\n",
        "list_b = [111,'c','งง',aaa]\n",
        "print(list_b)\n",
        "print(list_b+list_a)"
      ],
      "execution_count": 95,
      "outputs": [
        {
          "output_type": "stream",
          "text": [
            "[]\n",
            "[111, 'c', 'งง', 1092]\n",
            "[111, 'c', 'งง', 1092]\n"
          ],
          "name": "stdout"
        }
      ]
    },
    {
      "cell_type": "code",
      "metadata": {
        "id": "GNM95-4UtFec",
        "colab": {
          "base_uri": "https://localhost:8080/"
        },
        "outputId": "37cccc64-04fe-4fa6-9747-984d04b0a42d"
      },
      "source": [
        "list_b.append(list_a)\n",
        "print(list_b)"
      ],
      "execution_count": 96,
      "outputs": [
        {
          "output_type": "stream",
          "text": [
            "[111, 'c', 'งง', 1092, []]\n"
          ],
          "name": "stdout"
        }
      ]
    },
    {
      "cell_type": "markdown",
      "metadata": {
        "id": "NBxpLaARt5X4"
      },
      "source": [
        "#### การแบ่ง string ตามสัญลักษณ์ที่กำหนด -> split string"
      ]
    },
    {
      "cell_type": "code",
      "metadata": {
        "id": "R2HJ30fNY2bP",
        "outputId": "59ad1b9b-2c62-44b8-e50e-d62bb5f1969d",
        "colab": {
          "base_uri": "https://localhost:8080/",
          "height": 37
        }
      },
      "source": [
        "t"
      ],
      "execution_count": 92,
      "outputs": [
        {
          "output_type": "execute_result",
          "data": {
            "application/vnd.google.colaboratory.intrinsic+json": {
              "type": "string"
            },
            "text/plain": [
              "'python is easy'"
            ]
          },
          "metadata": {
            "tags": []
          },
          "execution_count": 92
        }
      ]
    },
    {
      "cell_type": "code",
      "metadata": {
        "id": "rzgpzWhbaiM1",
        "outputId": "b5ca9db7-6300-49d2-dd2a-7f62fad411fd",
        "colab": {
          "base_uri": "https://localhost:8080/"
        }
      },
      "source": [
        "t.split(' ')"
      ],
      "execution_count": 97,
      "outputs": [
        {
          "output_type": "execute_result",
          "data": {
            "text/plain": [
              "['python', 'is', 'easy']"
            ]
          },
          "metadata": {
            "tags": []
          },
          "execution_count": 97
        }
      ]
    },
    {
      "cell_type": "code",
      "metadata": {
        "id": "G4GzYjxQamHW"
      },
      "source": [
        "time = '12:30:15'"
      ],
      "execution_count": 98,
      "outputs": []
    },
    {
      "cell_type": "code",
      "metadata": {
        "id": "o8rPjJguaqRp",
        "outputId": "01f1fcf1-1de0-4c11-cf78-8ed34f833bc6",
        "colab": {
          "base_uri": "https://localhost:8080/"
        }
      },
      "source": [
        "time.split(':')"
      ],
      "execution_count": 99,
      "outputs": [
        {
          "output_type": "execute_result",
          "data": {
            "text/plain": [
              "['12', '30', '15']"
            ]
          },
          "metadata": {
            "tags": []
          },
          "execution_count": 99
        }
      ]
    },
    {
      "cell_type": "code",
      "metadata": {
        "id": "aZCdXLtoat31",
        "outputId": "a7478baa-4024-4773-de5e-0b8d563dc7c5",
        "colab": {
          "base_uri": "https://localhost:8080/"
        }
      },
      "source": [
        "t_sp = t.split(' ')\n",
        "print(t_sp)"
      ],
      "execution_count": 100,
      "outputs": [
        {
          "output_type": "stream",
          "text": [
            "['python', 'is', 'easy']\n"
          ],
          "name": "stdout"
        }
      ]
    },
    {
      "cell_type": "code",
      "metadata": {
        "id": "9eU-c3QBayNV",
        "outputId": "a39e0f1d-bb82-440f-e5f3-ec5782cbd177",
        "colab": {
          "base_uri": "https://localhost:8080/"
        }
      },
      "source": [
        "## วิธีรวมกลับ\n",
        "print(':'.join(t_sp))"
      ],
      "execution_count": 101,
      "outputs": [
        {
          "output_type": "stream",
          "text": [
            "python:is:easy\n"
          ],
          "name": "stdout"
        }
      ]
    },
    {
      "cell_type": "markdown",
      "metadata": {
        "id": "CCIdIGzia5Sp"
      },
      "source": [
        "### HW คำนวณเวลาเป็นวินาทีของเวลาต่อไปนี้โดยใช้คำสั่ง split() ช่วย (print ออกมาให้สวยงาม)\n",
        "12:30:15\n",
        "\n",
        "13:41:07\n",
        "\n",
        "12:53:15\n",
        "\n",
        "00:59:25\n",
        "\n",
        "11:11:11\n",
        "\n",
        "16:06:09\n",
        "\n",
        "21:12:30\n",
        "\n",
        "10:06:15\n",
        "\n",
        "ตัวอย่าง > 00:01:10 = 70 วินาที\n",
        "\n",
        "ตัวอย่าง > 01:00:01 = 3601 วินาที "
      ]
    },
    {
      "cell_type": "code",
      "metadata": {
        "id": "2O1jCYKXbAaR",
        "outputId": "f1825307-613d-4deb-b893-a56322b3c83c",
        "colab": {
          "base_uri": "https://localhost:8080/"
        }
      },
      "source": [
        "q1 = '12:30:15'\n",
        "q1.split(':')\n",
        "list_q1= [12,30,15]\n",
        "h1  = list_q1[0]*3600\n",
        "min1 = list_q1[1]*60\n",
        "sec1  = list_q1[2]\n",
        "ans1 = h1+min1+sec1 \n",
        "print(ans1,'วินาที')"
      ],
      "execution_count": 104,
      "outputs": [
        {
          "output_type": "stream",
          "text": [
            "45015 วินาที\n"
          ],
          "name": "stdout"
        }
      ]
    },
    {
      "cell_type": "code",
      "metadata": {
        "id": "2xhooaZVbl4R",
        "outputId": "8c314e76-f851-405e-f190-8eaaf90c289b",
        "colab": {
          "base_uri": "https://localhost:8080/"
        }
      },
      "source": [
        "q2 = '13:41:07'\n",
        "q2.split(':')\n",
        "list_q2 = [13,41,7]\n",
        "h2  = list_q2[0]*3600\n",
        "min2 = list_q2[1]*60\n",
        "sec2  = list_q2[2]\n",
        "ans2 = h2+min2+sec2 \n",
        "print(ans2,'วินาที')"
      ],
      "execution_count": 105,
      "outputs": [
        {
          "output_type": "stream",
          "text": [
            "49267 วินาที\n"
          ],
          "name": "stdout"
        }
      ]
    },
    {
      "cell_type": "code",
      "metadata": {
        "id": "E-5hq_7CbriK",
        "outputId": "0efa2206-ac00-4f7e-f8b4-bf0f161cc49a",
        "colab": {
          "base_uri": "https://localhost:8080/"
        }
      },
      "source": [
        "q3 = '12:53:15'\n",
        "q3.split(':')\n",
        "list_q3 = [12,53,15]\n",
        "h3  = list_q3[0]*3600\n",
        "min3 = list_q3[1]*60\n",
        "sec3  = list_q3[2]\n",
        "ans3 = h3+min3+sec3 \n",
        "print(ans3,'วินาที')"
      ],
      "execution_count": 106,
      "outputs": [
        {
          "output_type": "stream",
          "text": [
            "46395 วินาที\n"
          ],
          "name": "stdout"
        }
      ]
    },
    {
      "cell_type": "code",
      "metadata": {
        "id": "SZ79fxJMbwDp",
        "outputId": "3bec97ef-5503-49c0-d7c9-929047944579",
        "colab": {
          "base_uri": "https://localhost:8080/"
        }
      },
      "source": [
        "q4 = '00:59:25'\n",
        "q4.split(':')\n",
        "list_q4 = [00,59,25]\n",
        "h4  = list_q4[0]*3600\n",
        "min4 = list_q4[1]*60\n",
        "sec4  = list_q4[2]\n",
        "ans4 = h4+min4+sec4 \n",
        "print(ans4,'วินาที')"
      ],
      "execution_count": 107,
      "outputs": [
        {
          "output_type": "stream",
          "text": [
            "3565 วินาที\n"
          ],
          "name": "stdout"
        }
      ]
    },
    {
      "cell_type": "code",
      "metadata": {
        "id": "hqwOvUDAb0Hq",
        "outputId": "710112bb-df12-476c-ce06-7401fa3a208e",
        "colab": {
          "base_uri": "https://localhost:8080/"
        }
      },
      "source": [
        "q5 = '11:11:11'\n",
        "q5.split(':')\n",
        "list_q5 = [11,11,11]\n",
        "h5  = list_q5[0]*3600\n",
        "min5 = list_q5[1]*60\n",
        "sec5  = list_q5[2]\n",
        "ans5 = h5+min5+sec5 \n",
        "print(ans5,'วินาที')"
      ],
      "execution_count": 108,
      "outputs": [
        {
          "output_type": "stream",
          "text": [
            "40271 วินาที\n"
          ],
          "name": "stdout"
        }
      ]
    },
    {
      "cell_type": "code",
      "metadata": {
        "id": "ykW9OQpyb3Mt",
        "outputId": "b8afc729-3449-4332-820f-7fc642b6695c",
        "colab": {
          "base_uri": "https://localhost:8080/"
        }
      },
      "source": [
        "q6 = '16:06:09'\n",
        "q6.split(':')\n",
        "list_q6 = [16,6,9]\n",
        "h6  = list_q6[0]*3600\n",
        "min6 = list_q6[1]*60\n",
        "sec6  = list_q6[2]\n",
        "ans6 = h6+min6+sec6 \n",
        "print(ans6,'วินาที')"
      ],
      "execution_count": 109,
      "outputs": [
        {
          "output_type": "stream",
          "text": [
            "57969 วินาที\n"
          ],
          "name": "stdout"
        }
      ]
    },
    {
      "cell_type": "code",
      "metadata": {
        "id": "A_hUQw2db78H",
        "outputId": "1fe7efbf-fcf9-49fd-eb79-65050219ae24",
        "colab": {
          "base_uri": "https://localhost:8080/"
        }
      },
      "source": [
        "q7 = '21:12:30'\n",
        "q7.split(':')\n",
        "list_q7 = [21,12,30]\n",
        "h7  = list_q7[0]*3600\n",
        "min7 = list_q7[1]*60\n",
        "sec7  = list_q7[2]\n",
        "ans7 = h7+min7+sec7 \n",
        "print(ans7,'วินาที')"
      ],
      "execution_count": 110,
      "outputs": [
        {
          "output_type": "stream",
          "text": [
            "76350 วินาที\n"
          ],
          "name": "stdout"
        }
      ]
    },
    {
      "cell_type": "code",
      "metadata": {
        "id": "-Go_brO2cENh",
        "outputId": "b150ee7f-2f00-4ec9-8dcb-7c967bd673f4",
        "colab": {
          "base_uri": "https://localhost:8080/"
        }
      },
      "source": [
        "q8 = '10:06:15'\n",
        "q8.split(':')\n",
        "list_q8 = [10,6,15]\n",
        "h8  = list_q8[0]*3600\n",
        "min8 = list_q8[1]*60\n",
        "sec8  = list_q8[2]\n",
        "ans8 = h8+min8+sec8 \n",
        "print(ans8,'วินาที')"
      ],
      "execution_count": 112,
      "outputs": [
        {
          "output_type": "stream",
          "text": [
            "36375 วินาที\n"
          ],
          "name": "stdout"
        }
      ]
    }
  ]
}