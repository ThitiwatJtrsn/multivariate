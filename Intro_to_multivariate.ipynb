{
  "nbformat": 4,
  "nbformat_minor": 0,
  "metadata": {
    "colab": {
      "name": "Intro to multivariate.ipynb",
      "provenance": [],
      "authorship_tag": "ABX9TyNhoJdvDhe6YDI1/YyTRDn4",
      "include_colab_link": true
    },
    "kernelspec": {
      "name": "python3",
      "display_name": "Python 3"
    }
  },
  "cells": [
    {
      "cell_type": "markdown",
      "metadata": {
        "id": "view-in-github",
        "colab_type": "text"
      },
      "source": [
        "<a href=\"https://colab.research.google.com/github/ThitiwatJtrsn/multivariate/blob/main/Intro_to_multivariate.ipynb\" target=\"_parent\"><img src=\"https://colab.research.google.com/assets/colab-badge.svg\" alt=\"Open In Colab\"/></a>"
      ]
    },
    {
      "cell_type": "markdown",
      "metadata": {
        "id": "JhcPfrB4jKGN"
      },
      "source": [
        "ฐิติวัฒน์ จันทรเสนา ID 623021047-5"
      ]
    },
    {
      "cell_type": "code",
      "metadata": {
        "colab": {
          "base_uri": "https://localhost:8080/"
        },
        "id": "J4tBIjhOjBb_",
        "outputId": "0dd8f373-6d9e-4a7a-b6de-c470ee8119dc"
      },
      "source": [
        "print('ฐิติวัฒน์') #single quote (') ใช้ล้อมรอบข้อความ"
      ],
      "execution_count": 1,
      "outputs": [
        {
          "output_type": "stream",
          "text": [
            "ฐิติวัฒน์\n"
          ],
          "name": "stdout"
        }
      ]
    }
  ]
}