{
  "nbformat": 4,
  "nbformat_minor": 0,
  "metadata": {
    "colab": {
      "name": "MVA001.ipynb",
      "provenance": [],
      "authorship_tag": "ABX9TyPIefrgsPi9slvDADH5nPvW",
      "include_colab_link": true
    },
    "kernelspec": {
      "name": "python3",
      "display_name": "Python 3"
    }
  },
  "cells": [
    {
      "cell_type": "markdown",
      "metadata": {
        "id": "view-in-github",
        "colab_type": "text"
      },
      "source": [
        "<a href=\"https://colab.research.google.com/github/ThitiwatJtrsn/multivariate/blob/main/MVA001.ipynb\" target=\"_parent\"><img src=\"https://colab.research.google.com/assets/colab-badge.svg\" alt=\"Open In Colab\"/></a>"
      ]
    },
    {
      "cell_type": "markdown",
      "metadata": {
        "id": "JXN8qVdIT2QS"
      },
      "source": [
        "Scalar,Vector,Matrix"
      ]
    },
    {
      "cell_type": "markdown",
      "metadata": {
        "id": "JIFqQmZ1Y6Cz"
      },
      "source": [
        "##Scalar"
      ]
    },
    {
      "cell_type": "code",
      "metadata": {
        "id": "LZhuvkfUTnzc"
      },
      "source": [
        "import numpy as np"
      ],
      "execution_count": 1,
      "outputs": []
    },
    {
      "cell_type": "code",
      "metadata": {
        "colab": {
          "base_uri": "https://localhost:8080/"
        },
        "id": "uB7r5XV6T6Pp",
        "outputId": "12e13062-ee8f-4802-f173-806aaf85b90d"
      },
      "source": [
        "scalar_a = 10\n",
        "print(scalar_a)"
      ],
      "execution_count": 2,
      "outputs": [
        {
          "output_type": "stream",
          "text": [
            "10\n"
          ],
          "name": "stdout"
        }
      ]
    },
    {
      "cell_type": "markdown",
      "metadata": {
        "id": "23sXJmtWY-HV"
      },
      "source": [
        "##Vector"
      ]
    },
    {
      "cell_type": "code",
      "metadata": {
        "colab": {
          "base_uri": "https://localhost:8080/"
        },
        "id": "FYMWop5IUY0x",
        "outputId": "3d322c2f-7c20-49f8-f2d0-843728c52e0e"
      },
      "source": [
        "vector_b = np.zeros([2,1])\n",
        "vector_b[0,0] = 1\n",
        "vector_b[1,0] = 3\n",
        "print(vector_b)\n",
        "print(vector_b.shape)"
      ],
      "execution_count": 3,
      "outputs": [
        {
          "output_type": "stream",
          "text": [
            "[[1.]\n",
            " [3.]]\n",
            "(2, 1)\n"
          ],
          "name": "stdout"
        }
      ]
    },
    {
      "cell_type": "code",
      "metadata": {
        "colab": {
          "base_uri": "https://localhost:8080/"
        },
        "id": "00VVJfO2UxmE",
        "outputId": "94d40c5f-46c9-42f1-9809-28324e4bdc74"
      },
      "source": [
        "vector_c = np.array([[1],[3]])\n",
        "print(vector_c)\n",
        "print(vector_c.shape)"
      ],
      "execution_count": 4,
      "outputs": [
        {
          "output_type": "stream",
          "text": [
            "[[1]\n",
            " [3]]\n",
            "(2, 1)\n"
          ],
          "name": "stdout"
        }
      ]
    },
    {
      "cell_type": "code",
      "metadata": {
        "id": "zL1H4n7yVJ6H"
      },
      "source": [
        "from matplotlib import pyplot as plt"
      ],
      "execution_count": 5,
      "outputs": []
    },
    {
      "cell_type": "code",
      "metadata": {
        "colab": {
          "base_uri": "https://localhost:8080/",
          "height": 282
        },
        "id": "k9wIbAu5VdGN",
        "outputId": "8f0736d8-ff29-4d9b-d3ed-c5ee7007cca1"
      },
      "source": [
        "plt.plot(vector_b[0,0],vector_b[1,0],'or')"
      ],
      "execution_count": 6,
      "outputs": [
        {
          "output_type": "execute_result",
          "data": {
            "text/plain": [
              "[<matplotlib.lines.Line2D at 0x7f00adb70a90>]"
            ]
          },
          "metadata": {
            "tags": []
          },
          "execution_count": 6
        },
        {
          "output_type": "display_data",
          "data": {
            "image/png": "[encoded data removed]",
            "text/plain": [
              "<Figure size 432x288 with 1 Axes>"
            ]
          },
          "metadata": {
            "tags": [],
            "needs_background": "light"
          }
        }
      ]
    },
    {
      "cell_type": "markdown",
      "metadata": {
        "id": "OnRD_zLZX2cd"
      },
      "source": [
        "ขนาดของ vector คำนวณได้โดย พีทาโกรัส"
      ]
    },
    {
      "cell_type": "code",
      "metadata": {
        "id": "TVHqPnL_YoCj",
        "outputId": "0a2e4e7a-70b0-4de7-8819-9e63a03702b5",
        "colab": {
          "base_uri": "https://localhost:8080/"
        }
      },
      "source": [
        "vector_b_size = ((vector_b[0,0]**2) + (vector_b[1,0]**2))**0.5\n",
        "print(vector_b_size)"
      ],
      "execution_count": 8,
      "outputs": [
        {
          "output_type": "stream",
          "text": [
            "3.1622776601683795\n"
          ],
          "name": "stdout"
        }
      ]
    },
    {
      "cell_type": "code",
      "metadata": {
        "colab": {
          "base_uri": "https://localhost:8080/",
          "height": 282
        },
        "id": "VbpLtJ81WjP7",
        "outputId": "9e6d0ab7-5c44-4221-adc7-a11646a9e90a"
      },
      "source": [
        "plt.quiver(0,0,vector_b[0,0],vector_b[1,0])"
      ],
      "execution_count": 9,
      "outputs": [
        {
          "output_type": "execute_result",
          "data": {
            "text/plain": [
              "<matplotlib.quiver.Quiver at 0x7f00adb17358>"
            ]
          },
          "metadata": {
            "tags": []
          },
          "execution_count": 9
        },
        {
          "output_type": "display_data",
          "data": {
            "image/png": "[encoded data removed]",
            "text/plain": [
              "<Figure size 432x288 with 1 Axes>"
            ]
          },
          "metadata": {
            "tags": [],
            "needs_background": "light"
          }
        }
      ]
    },
    {
      "cell_type": "code",
      "metadata": {
        "id": "8APzqK5zXdqi"
      },
      "source": [
        "vector_b = np.zeros([2,1]) #vector\n"
      ],
      "execution_count": null,
      "outputs": []
    },
    {
      "cell_type": "markdown",
      "metadata": {
        "id": "Naci937zZMTL"
      },
      "source": [
        "##Matrix"
      ]
    },
    {
      "cell_type": "code",
      "metadata": {
        "id": "pXPD1eiYzpIx",
        "outputId": "47799484-1b3b-4b05-9531-9bb098bebc45",
        "colab": {
          "base_uri": "https://localhost:8080/"
        }
      },
      "source": [
        "matrix_d = np.array([[2,3],[1,4],[-1,1]])\n",
        "print(matrix_d)"
      ],
      "execution_count": 10,
      "outputs": [
        {
          "output_type": "stream",
          "text": [
            "[[ 2  3]\n",
            " [ 1  4]\n",
            " [-1  1]]\n"
          ],
          "name": "stdout"
        }
      ]
    },
    {
      "cell_type": "code",
      "metadata": {
        "id": "IrkB1Wi4zsV8",
        "outputId": "ec2cb285-7d92-4033-a501-7403ec4619dc",
        "colab": {
          "base_uri": "https://localhost:8080/"
        }
      },
      "source": [
        "matrix_d = matrix_d.T\n",
        "print(matrix_d)"
      ],
      "execution_count": 11,
      "outputs": [
        {
          "output_type": "stream",
          "text": [
            "[[ 2  1 -1]\n",
            " [ 3  4  1]]\n"
          ],
          "name": "stdout"
        }
      ]
    },
    {
      "cell_type": "code",
      "metadata": {
        "id": "xul70sY_z9E9",
        "outputId": "b07f5075-a4e4-4048-83c9-fc8f57dcf683",
        "colab": {
          "base_uri": "https://localhost:8080/",
          "height": 282
        }
      },
      "source": [
        "plt.plot(matrix_d[0,:],matrix_d[1,:],'or') #plot(ค่า X, ค่า Y ,หน้าตาของจุด)\n",
        "plt.plot(0,0,'.k')\n",
        "plt.plot([0,0],[-1,5],'--b')\n",
        "plt.plot([-2,2.5],[0,0],'--b')"
      ],
      "execution_count": 12,
      "outputs": [
        {
          "output_type": "execute_result",
          "data": {
            "text/plain": [
              "[<matplotlib.lines.Line2D at 0x7f00a4dfe198>]"
            ]
          },
          "metadata": {
            "tags": []
          },
          "execution_count": 12
        },
        {
          "output_type": "display_data",
          "data": {
            "image/png": "[encoded data removed]",
            "text/plain": [
              "<Figure size 432x288 with 1 Axes>"
            ]
          },
          "metadata": {
            "tags": [],
            "needs_background": "light"
          }
        }
      ]
    },
    {
      "cell_type": "code",
      "metadata": {
        "id": "0d3ebhAc0Bdb",
        "outputId": "065d06c0-2558-42cc-ada5-793d02a61b57",
        "colab": {
          "base_uri": "https://localhost:8080/",
          "height": 282
        }
      },
      "source": [
        "#plt.plot(matrix_d[0,:],matrix_d[1,:],'or') #plot(ค่า X, ค่า Y ,หน้าตาของจุด)\n",
        "#plt.plot(0,0,'.b')\n",
        "plt.plot([0,0],[-1,5],'o:b')\n",
        "#plt.plot([-2,2.5],[0,0],'--b')"
      ],
      "execution_count": 13,
      "outputs": [
        {
          "output_type": "execute_result",
          "data": {
            "text/plain": [
              "[<matplotlib.lines.Line2D at 0x7f00a4d56e10>]"
            ]
          },
          "metadata": {
            "tags": []
          },
          "execution_count": 13
        },
        {
          "output_type": "display_data",
          "data": {
            "image/png": "[encoded data removed]",
            "text/plain": [
              "<Figure size 432x288 with 1 Axes>"
            ]
          },
          "metadata": {
            "tags": [],
            "needs_background": "light"
          }
        }
      ]
    },
    {
      "cell_type": "markdown",
      "metadata": {
        "id": "RfoEPH2t0J_x"
      },
      "source": [
        "##TRANSPOSE"
      ]
    },
    {
      "cell_type": "code",
      "metadata": {
        "id": "yM_bZbP60NID",
        "outputId": "988d0e42-7628-491a-b877-3c8fbc35a705",
        "colab": {
          "base_uri": "https://localhost:8080/"
        }
      },
      "source": [
        "A = np.array([[3,-1,2],[1,5,4]])\n",
        "print(A)"
      ],
      "execution_count": 14,
      "outputs": [
        {
          "output_type": "stream",
          "text": [
            "[[ 3 -1  2]\n",
            " [ 1  5  4]]\n"
          ],
          "name": "stdout"
        }
      ]
    },
    {
      "cell_type": "code",
      "metadata": {
        "id": "y-1bOeBf0S5F",
        "outputId": "dda1edfe-28ee-4c75-93a0-1f476bbd9aca",
        "colab": {
          "base_uri": "https://localhost:8080/"
        }
      },
      "source": [
        "A.T"
      ],
      "execution_count": 15,
      "outputs": [
        {
          "output_type": "execute_result",
          "data": {
            "text/plain": [
              "array([[ 3,  1],\n",
              "       [-1,  5],\n",
              "       [ 2,  4]])"
            ]
          },
          "metadata": {
            "tags": []
          },
          "execution_count": 15
        }
      ]
    },
    {
      "cell_type": "markdown",
      "metadata": {
        "id": "FSd51ag-0cD5"
      },
      "source": [
        "##B = A*A'"
      ]
    },
    {
      "cell_type": "code",
      "metadata": {
        "id": "j-7bTy5I0duH",
        "outputId": "ca04c371-6df4-4bea-8769-10657909310a",
        "colab": {
          "base_uri": "https://localhost:8080/"
        }
      },
      "source": [
        "B = np.dot(A,A.T)\n",
        "print(B)"
      ],
      "execution_count": 16,
      "outputs": [
        {
          "output_type": "stream",
          "text": [
            "[[14  6]\n",
            " [ 6 42]]\n"
          ],
          "name": "stdout"
        }
      ]
    },
    {
      "cell_type": "markdown",
      "metadata": {
        "id": "YlA6JzgL0kkW"
      },
      "source": [
        "##DETERMINANT\n",
        "Det(B)"
      ]
    },
    {
      "cell_type": "code",
      "metadata": {
        "id": "SA-4K7Pq0oVl",
        "outputId": "42043dc7-423b-43ab-c230-77118585a36e",
        "colab": {
          "base_uri": "https://localhost:8080/"
        }
      },
      "source": [
        "np.linalg.det(B)"
      ],
      "execution_count": 17,
      "outputs": [
        {
          "output_type": "execute_result",
          "data": {
            "text/plain": [
              "551.9999999999998"
            ]
          },
          "metadata": {
            "tags": []
          },
          "execution_count": 17
        }
      ]
    }
  ]
}