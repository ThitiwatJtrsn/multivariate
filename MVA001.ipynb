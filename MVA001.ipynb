{
  "nbformat": 4,
  "nbformat_minor": 0,
  "metadata": {
    "colab": {
      "name": "MVA001.ipynb",
      "provenance": [],
      "toc_visible": true,
      "authorship_tag": "ABX9TyPfx9PRP2shcgPE7nZ5WeGF",
      "include_colab_link": true
    },
    "kernelspec": {
      "name": "python3",
      "display_name": "Python 3"
    }
  },
  "cells": [
    {
      "cell_type": "markdown",
      "metadata": {
        "id": "view-in-github",
        "colab_type": "text"
      },
      "source": [
        "<a href=\"https://colab.research.google.com/github/ThitiwatJtrsn/multivariate/blob/main/MVA001.ipynb\" target=\"_parent\"><img src=\"https://colab.research.google.com/assets/colab-badge.svg\" alt=\"Open In Colab\"/></a>"
      ]
    },
    {
      "cell_type": "markdown",
      "metadata": {
        "id": "JXN8qVdIT2QS"
      },
      "source": [
        "Scalar,Vector,Matrix"
      ]
    },
    {
      "cell_type": "markdown",
      "metadata": {
        "id": "JIFqQmZ1Y6Cz"
      },
      "source": [
        "##Scalar"
      ]
    },
    {
      "cell_type": "code",
      "metadata": {
        "id": "LZhuvkfUTnzc"
      },
      "source": [
        "import numpy as np"
      ],
      "execution_count": 98,
      "outputs": []
    },
    {
      "cell_type": "code",
      "metadata": {
        "colab": {
          "base_uri": "https://localhost:8080/"
        },
        "id": "uB7r5XV6T6Pp",
        "outputId": "837ecd56-e609-45bf-9aa6-4c77b3dc4cae"
      },
      "source": [
        "scalar_a = 10\n",
        "print(scalar_a)"
      ],
      "execution_count": 99,
      "outputs": [
        {
          "output_type": "stream",
          "text": [
            "10\n"
          ],
          "name": "stdout"
        }
      ]
    },
    {
      "cell_type": "markdown",
      "metadata": {
        "id": "23sXJmtWY-HV"
      },
      "source": [
        "##Vector"
      ]
    },
    {
      "cell_type": "code",
      "metadata": {
        "colab": {
          "base_uri": "https://localhost:8080/"
        },
        "id": "FYMWop5IUY0x",
        "outputId": "98d1116e-158a-451b-ff3e-7c008248b11c"
      },
      "source": [
        "vector_b = np.zeros([2,1])\n",
        "vector_b[0,0] = 1\n",
        "vector_b[1,0] = 3\n",
        "print(vector_b)\n",
        "print(vector_b.shape)"
      ],
      "execution_count": 100,
      "outputs": [
        {
          "output_type": "stream",
          "text": [
            "[[1.]\n",
            " [3.]]\n",
            "(2, 1)\n"
          ],
          "name": "stdout"
        }
      ]
    },
    {
      "cell_type": "code",
      "metadata": {
        "colab": {
          "base_uri": "https://localhost:8080/"
        },
        "id": "00VVJfO2UxmE",
        "outputId": "7b1f3f49-847d-4f94-fd82-970ae781ead0"
      },
      "source": [
        "vector_c = np.array([[1],[3]])\n",
        "print(vector_c)\n",
        "print(vector_c.shape)"
      ],
      "execution_count": 101,
      "outputs": [
        {
          "output_type": "stream",
          "text": [
            "[[1]\n",
            " [3]]\n",
            "(2, 1)\n"
          ],
          "name": "stdout"
        }
      ]
    },
    {
      "cell_type": "code",
      "metadata": {
        "id": "zL1H4n7yVJ6H"
      },
      "source": [
        "from matplotlib import pyplot as plt"
      ],
      "execution_count": 102,
      "outputs": []
    },
    {
      "cell_type": "code",
      "metadata": {
        "colab": {
          "base_uri": "https://localhost:8080/",
          "height": 282
        },
        "id": "k9wIbAu5VdGN",
        "outputId": "e7b7e716-0adc-4ac8-84a4-bed787df1b56"
      },
      "source": [
        "plt.plot(vector_b[0,0],vector_b[1,0],'or')"
      ],
      "execution_count": 103,
      "outputs": [
        {
          "output_type": "execute_result",
          "data": {
            "text/plain": [
              "[<matplotlib.lines.Line2D at 0x7fc0e1587048>]"
            ]
          },
          "metadata": {
            "tags": []
          },
          "execution_count": 103
        },
        {
          "output_type": "display_data",
          "data": {
            "image/png": "[encoded data removed]",
            "text/plain": [
              "<Figure size 432x288 with 1 Axes>"
            ]
          },
          "metadata": {
            "tags": [],
            "needs_background": "light"
          }
        }
      ]
    },
    {
      "cell_type": "markdown",
      "metadata": {
        "id": "OnRD_zLZX2cd"
      },
      "source": [
        "ขนาดของ vector คำนวณได้โดย พีทาโกรัส"
      ]
    },
    {
      "cell_type": "code",
      "metadata": {
        "id": "TVHqPnL_YoCj",
        "colab": {
          "base_uri": "https://localhost:8080/"
        },
        "outputId": "9b95cf3c-5764-4e3f-e160-0cd534ad4a47"
      },
      "source": [
        "vector_b_size = ((vector_b[0,0]**2) + (vector_b[1,0]**2))**0.5\n",
        "print(vector_b_size)"
      ],
      "execution_count": 104,
      "outputs": [
        {
          "output_type": "stream",
          "text": [
            "3.1622776601683795\n"
          ],
          "name": "stdout"
        }
      ]
    },
    {
      "cell_type": "code",
      "metadata": {
        "colab": {
          "base_uri": "https://localhost:8080/",
          "height": 282
        },
        "id": "VbpLtJ81WjP7",
        "outputId": "2ea8fec2-7e82-43de-eaf6-02923abd3f39"
      },
      "source": [
        "plt.quiver(0,0,vector_b[0,0],vector_b[1,0])"
      ],
      "execution_count": 105,
      "outputs": [
        {
          "output_type": "execute_result",
          "data": {
            "text/plain": [
              "<matplotlib.quiver.Quiver at 0x7fc0e155e358>"
            ]
          },
          "metadata": {
            "tags": []
          },
          "execution_count": 105
        },
        {
          "output_type": "display_data",
          "data": {
            "image/png": "[encoded data removed]",
            "text/plain": [
              "<Figure size 432x288 with 1 Axes>"
            ]
          },
          "metadata": {
            "tags": [],
            "needs_background": "light"
          }
        }
      ]
    },
    {
      "cell_type": "code",
      "metadata": {
        "id": "8APzqK5zXdqi"
      },
      "source": [
        "vector_b = np.zeros([2,1]) #vector\n"
      ],
      "execution_count": 106,
      "outputs": []
    },
    {
      "cell_type": "markdown",
      "metadata": {
        "id": "Naci937zZMTL"
      },
      "source": [
        "##Matrix"
      ]
    },
    {
      "cell_type": "code",
      "metadata": {
        "id": "pXPD1eiYzpIx",
        "colab": {
          "base_uri": "https://localhost:8080/"
        },
        "outputId": "0900e045-6a63-4910-beee-c41915a4f7ae"
      },
      "source": [
        "matrix_d = np.array([[2,3],[1,4],[-1,1]])\n",
        "print(matrix_d)"
      ],
      "execution_count": 107,
      "outputs": [
        {
          "output_type": "stream",
          "text": [
            "[[ 2  3]\n",
            " [ 1  4]\n",
            " [-1  1]]\n"
          ],
          "name": "stdout"
        }
      ]
    },
    {
      "cell_type": "code",
      "metadata": {
        "id": "IrkB1Wi4zsV8",
        "colab": {
          "base_uri": "https://localhost:8080/"
        },
        "outputId": "71e3a9d5-1064-4004-a467-5338664d0c6c"
      },
      "source": [
        "matrix_d = matrix_d.T\n",
        "print(matrix_d)"
      ],
      "execution_count": 108,
      "outputs": [
        {
          "output_type": "stream",
          "text": [
            "[[ 2  1 -1]\n",
            " [ 3  4  1]]\n"
          ],
          "name": "stdout"
        }
      ]
    },
    {
      "cell_type": "code",
      "metadata": {
        "id": "xul70sY_z9E9",
        "colab": {
          "base_uri": "https://localhost:8080/",
          "height": 282
        },
        "outputId": "5f8b722c-56ec-452b-ef27-ab0b35b140fb"
      },
      "source": [
        "plt.plot(matrix_d[0,:],matrix_d[1,:],'or') #plot(ค่า X, ค่า Y ,หน้าตาของจุด)\n",
        "plt.plot(0,0,'.k')\n",
        "plt.plot([0,0],[-1,5],'--b')\n",
        "plt.plot([-2,2.5],[0,0],'--b')"
      ],
      "execution_count": 109,
      "outputs": [
        {
          "output_type": "execute_result",
          "data": {
            "text/plain": [
              "[<matplotlib.lines.Line2D at 0x7fc0e14be9e8>]"
            ]
          },
          "metadata": {
            "tags": []
          },
          "execution_count": 109
        },
        {
          "output_type": "display_data",
          "data": {
            "image/png": "[encoded data removed]",
            "text/plain": [
              "<Figure size 432x288 with 1 Axes>"
            ]
          },
          "metadata": {
            "tags": [],
            "needs_background": "light"
          }
        }
      ]
    },
    {
      "cell_type": "code",
      "metadata": {
        "id": "0d3ebhAc0Bdb",
        "colab": {
          "base_uri": "https://localhost:8080/",
          "height": 282
        },
        "outputId": "cbdfa1f1-f38e-4d7a-ffd1-90731d8a2b1b"
      },
      "source": [
        "#plt.plot(matrix_d[0,:],matrix_d[1,:],'or') #plot(ค่า X, ค่า Y ,หน้าตาของจุด)\n",
        "#plt.plot(0,0,'.b')\n",
        "plt.plot([0,0],[-1,5],'o:b')\n",
        "#plt.plot([-2,2.5],[0,0],'--b')"
      ],
      "execution_count": 110,
      "outputs": [
        {
          "output_type": "execute_result",
          "data": {
            "text/plain": [
              "[<matplotlib.lines.Line2D at 0x7fc0e149c4e0>]"
            ]
          },
          "metadata": {
            "tags": []
          },
          "execution_count": 110
        },
        {
          "output_type": "display_data",
          "data": {
            "image/png": "[encoded data removed]",
            "text/plain": [
              "<Figure size 432x288 with 1 Axes>"
            ]
          },
          "metadata": {
            "tags": [],
            "needs_background": "light"
          }
        }
      ]
    },
    {
      "cell_type": "markdown",
      "metadata": {
        "id": "RfoEPH2t0J_x"
      },
      "source": [
        "##TRANSPOSE"
      ]
    },
    {
      "cell_type": "code",
      "metadata": {
        "id": "yM_bZbP60NID",
        "colab": {
          "base_uri": "https://localhost:8080/"
        },
        "outputId": "77f46d39-4ba6-4565-e78c-846ed567c01d"
      },
      "source": [
        "A = np.array([[3,-1,2],[1,5,4]])\n",
        "print(A)"
      ],
      "execution_count": 111,
      "outputs": [
        {
          "output_type": "stream",
          "text": [
            "[[ 3 -1  2]\n",
            " [ 1  5  4]]\n"
          ],
          "name": "stdout"
        }
      ]
    },
    {
      "cell_type": "code",
      "metadata": {
        "id": "y-1bOeBf0S5F",
        "colab": {
          "base_uri": "https://localhost:8080/"
        },
        "outputId": "7348e9f3-673a-4361-d607-7bca09400099"
      },
      "source": [
        "A.T"
      ],
      "execution_count": 112,
      "outputs": [
        {
          "output_type": "execute_result",
          "data": {
            "text/plain": [
              "array([[ 3,  1],\n",
              "       [-1,  5],\n",
              "       [ 2,  4]])"
            ]
          },
          "metadata": {
            "tags": []
          },
          "execution_count": 112
        }
      ]
    },
    {
      "cell_type": "markdown",
      "metadata": {
        "id": "FSd51ag-0cD5"
      },
      "source": [
        "##B = A*A'"
      ]
    },
    {
      "cell_type": "code",
      "metadata": {
        "id": "j-7bTy5I0duH",
        "colab": {
          "base_uri": "https://localhost:8080/"
        },
        "outputId": "73c7361f-c0d7-4c0e-a417-c408cfeefdf0"
      },
      "source": [
        "B = np.dot(A,A.T)\n",
        "print(B)"
      ],
      "execution_count": 113,
      "outputs": [
        {
          "output_type": "stream",
          "text": [
            "[[14  6]\n",
            " [ 6 42]]\n"
          ],
          "name": "stdout"
        }
      ]
    },
    {
      "cell_type": "markdown",
      "metadata": {
        "id": "YlA6JzgL0kkW"
      },
      "source": [
        "##DETERMINANT\n",
        "Det(B)"
      ]
    },
    {
      "cell_type": "code",
      "metadata": {
        "id": "SA-4K7Pq0oVl",
        "colab": {
          "base_uri": "https://localhost:8080/"
        },
        "outputId": "be4348b0-4c6d-48e0-c55b-b5c06feca099"
      },
      "source": [
        "np.linalg.det(B)"
      ],
      "execution_count": 114,
      "outputs": [
        {
          "output_type": "execute_result",
          "data": {
            "text/plain": [
              "551.9999999999998"
            ]
          },
          "metadata": {
            "tags": []
          },
          "execution_count": 114
        }
      ]
    },
    {
      "cell_type": "markdown",
      "metadata": {
        "id": "cJ8QWgPuuMrN"
      },
      "source": [
        "linelg = linear algebra"
      ]
    },
    {
      "cell_type": "markdown",
      "metadata": {
        "id": "cjYBA8Gcub5-"
      },
      "source": [
        "matrix algebra  เพิ่มเติม"
      ]
    },
    {
      "cell_type": "code",
      "metadata": {
        "colab": {
          "base_uri": "https://localhost:8080/",
          "height": 71
        },
        "id": "XtUU2VFBue3F",
        "outputId": "77a507cf-1c37-43f2-e204-bd19d64bdbb9"
      },
      "source": [
        "plt.plot([0,1],[0,1],  '-r') ## vector [1,1]\n",
        "plt.plot(0,0, '.b')\n",
        "plt.plot([0,0],[-1,5],'^:k')\n",
        "plt.plot([-1.5,2.5],[0,0],'>:k')"
      ],
      "execution_count": 115,
      "outputs": [
        {
          "output_type": "execute_result",
          "data": {
            "text/plain": [
              "[<matplotlib.lines.Line2D at 0x7fc0e182ea20>]"
            ]
          },
          "metadata": {
            "tags": []
          },
          "execution_count": 115
        },
        {
          "output_type": "display_data",
          "data": {
            "image/png": "[encoded data removed]",
            "text/plain": [
              "<Figure size 432x288 with 1 Axes>"
            ]
          },
          "metadata": {
            "tags": [],
            "needs_background": "light"
          }
        }
      ]
    },
    {
      "cell_type": "code",
      "metadata": {
        "colab": {
          "base_uri": "https://localhost:8080/"
        },
        "id": "5IxxvQ9Auo03",
        "outputId": "144af7ef-e889-4c3e-9ade-efb1419d2b28"
      },
      "source": [
        "B = np.array([[1,2],[3,4]])\n",
        "B"
      ],
      "execution_count": 116,
      "outputs": [
        {
          "output_type": "execute_result",
          "data": {
            "text/plain": [
              "array([[1, 2],\n",
              "       [3, 4]])"
            ]
          },
          "metadata": {
            "tags": []
          },
          "execution_count": 116
        }
      ]
    },
    {
      "cell_type": "markdown",
      "metadata": {
        "id": "hcSR_TqGusts"
      },
      "source": [
        "การคูณ Matrix $(B.v)$ คือการทำ linear transformation"
      ]
    },
    {
      "cell_type": "code",
      "metadata": {
        "colab": {
          "base_uri": "https://localhost:8080/"
        },
        "id": "cg_1gt5ruv-t",
        "outputId": "65435b54-568f-448a-d94e-87d63085ec6f"
      },
      "source": [
        "BV = np .dot  (B,np.array([[1], [1]]))\n",
        "BV"
      ],
      "execution_count": 117,
      "outputs": [
        {
          "output_type": "execute_result",
          "data": {
            "text/plain": [
              "array([[3],\n",
              "       [7]])"
            ]
          },
          "metadata": {
            "tags": []
          },
          "execution_count": 117
        }
      ]
    },
    {
      "cell_type": "code",
      "metadata": {
        "colab": {
          "base_uri": "https://localhost:8080/",
          "height": 71
        },
        "id": "7UeUaDT8uzaX",
        "outputId": "e1dc6517-5476-49a3-b3fb-6450a19de08a"
      },
      "source": [
        "plt.plot([0,BV[0,0]],[0,BV[1,0]],'-g') # vector [1,1]\n",
        "plt.plot([0,1],[0,1],'-r') \n",
        "plt.plot(0,0,'.k')\n",
        "plt.plot([0,0],[-1,5],'^:b')\n",
        "plt.plot([-2,2.5],[0,0],'>:b')"
      ],
      "execution_count": 118,
      "outputs": [
        {
          "output_type": "execute_result",
          "data": {
            "text/plain": [
              "[<matplotlib.lines.Line2D at 0x7fc0e163d630>]"
            ]
          },
          "metadata": {
            "tags": []
          },
          "execution_count": 118
        },
        {
          "output_type": "display_data",
          "data": {
            "image/png": "[encoded data removed]",
            "text/plain": [
              "<Figure size 432x288 with 1 Axes>"
            ]
          },
          "metadata": {
            "tags": [],
            "needs_background": "light"
          }
        }
      ]
    },
    {
      "cell_type": "markdown",
      "metadata": {
        "id": "m245sgDAu3yv"
      },
      "source": [
        "Determinant Matrix ก็คือ $(B.v)$ พื้นที่ของ unit vector ที่ถูกเปลี่ยนไปโดย matrix นั้นๆ"
      ]
    },
    {
      "cell_type": "code",
      "metadata": {
        "colab": {
          "base_uri": "https://localhost:8080/",
          "height": 71
        },
        "id": "QltIEoVXu7M9",
        "outputId": "a297a6a2-169e-4dc7-8b6d-b836d8901945"
      },
      "source": [
        "plt.plot([0,BV[0,0]],[0,BV[1,0]],'-g') # vector Bv\n",
        "plt.plot([1,1],[1,0],':r') # วางจดไข่ปลา พื้นที่ของ Bv สีแดงแนวตั้ง\n",
        "plt.plot([0,1],[0,1],'-r') # vector v ([1,1])\n",
        "plt.plot(0,0,'.k')\n",
        "plt.plot([0,0],[-1,5],'^:b')\n",
        "plt.plot([-2,2.5],[0,0],'>:b')"
      ],
      "execution_count": 119,
      "outputs": [
        {
          "output_type": "execute_result",
          "data": {
            "text/plain": [
              "[<matplotlib.lines.Line2D at 0x7fc0e1351278>]"
            ]
          },
          "metadata": {
            "tags": []
          },
          "execution_count": 119
        },
        {
          "output_type": "display_data",
          "data": {
            "image/png": "[encoded data removed]",
            "text/plain": [
              "<Figure size 432x288 with 1 Axes>"
            ]
          },
          "metadata": {
            "tags": [],
            "needs_background": "light"
          }
        }
      ]
    },
    {
      "cell_type": "code",
      "metadata": {
        "colab": {
          "base_uri": "https://localhost:8080/",
          "height": 71
        },
        "id": "-xrm3LFfu_nm",
        "outputId": "c691e2d6-b6da-4c57-c1ac-a953ce2fc52c"
      },
      "source": [
        "plt.plot([0,BV[0,0]],[0,BV[1,0]],'-g') # vector Bv\n",
        "plt.plot([1,1],[1,0],':r') # วางจดไข่ปลา พื้นที่ของ Bv สีแดงแนวตั้ง\n",
        "plt.plot([1,0],[1,1],':r') # วางจดไข่ปลา พื้นที่ของ Bv สีแดงแนวนอน\n",
        "plt.plot([0,1],[0,1],'-r') # vector v ([1,1])\n",
        "plt.plot(0,0,'.k')\n",
        "plt.plot([0,0],[-1,5],'^:b')\n",
        "plt.plot([-2,2.5],[0,0],'>:b')"
      ],
      "execution_count": 120,
      "outputs": [
        {
          "output_type": "execute_result",
          "data": {
            "text/plain": [
              "[<matplotlib.lines.Line2D at 0x7fc0e12cb4a8>]"
            ]
          },
          "metadata": {
            "tags": []
          },
          "execution_count": 120
        },
        {
          "output_type": "display_data",
          "data": {
            "image/png": "[encoded data removed]",
            "text/plain": [
              "<Figure size 432x288 with 1 Axes>"
            ]
          },
          "metadata": {
            "tags": [],
            "needs_background": "light"
          }
        }
      ]
    },
    {
      "cell_type": "code",
      "metadata": {
        "colab": {
          "base_uri": "https://localhost:8080/",
          "height": 71
        },
        "id": "jQVNiOHUvD_K",
        "outputId": "299d864d-da32-48d8-9a45-111e497fa867"
      },
      "source": [
        "plt.plot([0,BV[0,0]],[0,BV[1,0]],'-g') # vector Bv\n",
        "plt.plot([1,1],[1,0],':r') # วางจดไข่ปลา พื้นที่ของ Bv สีแดงแนวตั้ง\n",
        "plt.plot([1,0],[1,1],':r') # วางจดไข่ปลา พื้นที่ของ Bv สีแดงแนวนอน\n",
        "plt.plot([3,3],[7,0],':g') # วางจดไข่ปลา พื้นที่ของ Bv สีเขียวแนวตั้ง\n",
        "plt.plot([3,0],[7,7],':g') # วางจุดไข่ปลา พื้นที่ของ Bv สีเขียวแนวนอน\n",
        "plt.plot([0,1],[0,1],'-r') # vector v ([1,1])\n",
        "plt.plot(0,0,'.k')\n",
        "plt.plot([0,0],[-1,7],'^:b')\n",
        "plt.plot([-2,3],[0,0],'>:b')"
      ],
      "execution_count": 121,
      "outputs": [
        {
          "output_type": "execute_result",
          "data": {
            "text/plain": [
              "[<matplotlib.lines.Line2D at 0x7fc0e124c1d0>]"
            ]
          },
          "metadata": {
            "tags": []
          },
          "execution_count": 121
        },
        {
          "output_type": "display_data",
          "data": {
            "image/png": "[encoded data removed]",
            "text/plain": [
              "<Figure size 432x288 with 1 Axes>"
            ]
          },
          "metadata": {
            "tags": [],
            "needs_background": "light"
          }
        }
      ]
    },
    {
      "cell_type": "markdown",
      "metadata": {
        "id": "8ORur9_kvIfX"
      },
      "source": [
        "#Identity matrix ($I$)"
      ]
    },
    {
      "cell_type": "markdown",
      "metadata": {
        "id": "n8Axgb7OvRMQ"
      },
      "source": [
        "$BI =B =IB$"
      ]
    },
    {
      "cell_type": "code",
      "metadata": {
        "id": "o_fPx6NJvSFf"
      },
      "source": [
        "iden2 = np.identity(2)"
      ],
      "execution_count": 122,
      "outputs": []
    },
    {
      "cell_type": "code",
      "metadata": {
        "colab": {
          "base_uri": "https://localhost:8080/"
        },
        "id": "FgrWVOx0vXoR",
        "outputId": "b5e372d8-7526-4025-d526-1cbf837250c6"
      },
      "source": [
        "B"
      ],
      "execution_count": 123,
      "outputs": [
        {
          "output_type": "execute_result",
          "data": {
            "text/plain": [
              "array([[1, 2],\n",
              "       [3, 4]])"
            ]
          },
          "metadata": {
            "tags": []
          },
          "execution_count": 123
        }
      ]
    },
    {
      "cell_type": "code",
      "metadata": {
        "colab": {
          "base_uri": "https://localhost:8080/"
        },
        "id": "MBSn-s6Yvabo",
        "outputId": "e3d3be62-d721-4140-ec16-dc2c21010194"
      },
      "source": [
        "np.dot(B,iden2)"
      ],
      "execution_count": 124,
      "outputs": [
        {
          "output_type": "execute_result",
          "data": {
            "text/plain": [
              "array([[1., 2.],\n",
              "       [3., 4.]])"
            ]
          },
          "metadata": {
            "tags": []
          },
          "execution_count": 124
        }
      ]
    },
    {
      "cell_type": "code",
      "metadata": {
        "colab": {
          "base_uri": "https://localhost:8080/"
        },
        "id": "Lj6fwB4Mvdy5",
        "outputId": "6a178025-46ce-4099-e16c-0c235c900ae1"
      },
      "source": [
        "np.dot(iden2,B)"
      ],
      "execution_count": 125,
      "outputs": [
        {
          "output_type": "execute_result",
          "data": {
            "text/plain": [
              "array([[1., 2.],\n",
              "       [3., 4.]])"
            ]
          },
          "metadata": {
            "tags": []
          },
          "execution_count": 125
        }
      ]
    },
    {
      "cell_type": "code",
      "metadata": {
        "colab": {
          "base_uri": "https://localhost:8080/"
        },
        "id": "07jb9575vg41",
        "outputId": "873e1aea-a9ed-4bd6-b3d2-fd2d8639bf7b"
      },
      "source": [
        "C = np.array([[-1,2],[2,4]])\n",
        "C"
      ],
      "execution_count": 126,
      "outputs": [
        {
          "output_type": "execute_result",
          "data": {
            "text/plain": [
              "array([[-1,  2],\n",
              "       [ 2,  4]])"
            ]
          },
          "metadata": {
            "tags": []
          },
          "execution_count": 126
        }
      ]
    },
    {
      "cell_type": "code",
      "metadata": {
        "colab": {
          "base_uri": "https://localhost:8080/"
        },
        "id": "Gfk6-QO3vjre",
        "outputId": "fa4f2b45-b9ca-49eb-ea6f-4a4741653e62"
      },
      "source": [
        "np.dot(B,C)"
      ],
      "execution_count": 127,
      "outputs": [
        {
          "output_type": "execute_result",
          "data": {
            "text/plain": [
              "array([[ 3, 10],\n",
              "       [ 5, 22]])"
            ]
          },
          "metadata": {
            "tags": []
          },
          "execution_count": 127
        }
      ]
    },
    {
      "cell_type": "code",
      "metadata": {
        "colab": {
          "base_uri": "https://localhost:8080/"
        },
        "id": "EINmrLzrvngl",
        "outputId": "4f69bd89-fd22-424a-dd30-5cdd8fc29b8f"
      },
      "source": [
        "np.dot(C,B)"
      ],
      "execution_count": 128,
      "outputs": [
        {
          "output_type": "execute_result",
          "data": {
            "text/plain": [
              "array([[ 5,  6],\n",
              "       [14, 20]])"
            ]
          },
          "metadata": {
            "tags": []
          },
          "execution_count": 128
        }
      ]
    },
    {
      "cell_type": "markdown",
      "metadata": {
        "id": "XbhsNYsDvtlR"
      },
      "source": [
        "การบ้านหาในห้อง "
      ]
    },
    {
      "cell_type": "markdown",
      "metadata": {
        "id": "Q6dtgJCCvx4Y"
      },
      "source": [
        "![Unknown.png](data:image/png;base64,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)"
      ]
    },
    {
      "cell_type": "code",
      "metadata": {
        "colab": {
          "base_uri": "https://localhost:8080/"
        },
        "id": "85BBfgaQvzo3",
        "outputId": "3b7b1f7b-d4f2-478d-b13f-b6b22f24e104"
      },
      "source": [
        "B = np.array([[[3,1,6],[7,4,5],[2,-7,1]]])\n",
        "print(B)"
      ],
      "execution_count": 129,
      "outputs": [
        {
          "output_type": "stream",
          "text": [
            "[[[ 3  1  6]\n",
            "  [ 7  4  5]\n",
            "  [ 2 -7  1]]]\n"
          ],
          "name": "stdout"
        }
      ]
    },
    {
      "cell_type": "code",
      "metadata": {
        "colab": {
          "base_uri": "https://localhost:8080/"
        },
        "id": "tD16AePvv4qZ",
        "outputId": "7a89077e-74e0-4499-bdee-a9d2e2d53ab4"
      },
      "source": [
        "np.linalg.det(B)"
      ],
      "execution_count": 130,
      "outputs": [
        {
          "output_type": "execute_result",
          "data": {
            "text/plain": [
              "array([-222.])"
            ]
          },
          "metadata": {
            "tags": []
          },
          "execution_count": 130
        }
      ]
    },
    {
      "cell_type": "markdown",
      "metadata": {
        "id": "6Q8lkZmWv80d"
      },
      "source": [
        "#Eigen value กับ Eigen vector"
      ]
    },
    {
      "cell_type": "markdown",
      "metadata": {
        "id": "YFQeLxrTv92p"
      },
      "source": [
        "Eigen value ($\\lambda$) -> $|A-\\lambda I| = 0$\n",
        "\n",
        "Eigen vector ($x$) -> $Ax = \\lambda x$"
      ]
    },
    {
      "cell_type": "code",
      "metadata": {
        "id": "XHw__crCwBVL"
      },
      "source": [
        "## latext ($\\lamda$ ) เป็นต้น"
      ],
      "execution_count": 131,
      "outputs": []
    },
    {
      "cell_type": "markdown",
      "metadata": {
        "id": "be1-kY7WwKE2"
      },
      "source": [
        "HW 5 หา Eigen value กับ Eigen vector"
      ]
    },
    {
      "cell_type": "markdown",
      "metadata": {
        "id": "2Dy8ugduwiHw"
      },
      "source": [
        "![Unknown.png](data:image/png;base64,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)"
      ]
    },
    {
      "cell_type": "code",
      "metadata": {
        "id": "7YjYYWc0wkmP",
        "colab": {
          "base_uri": "https://localhost:8080/"
        },
        "outputId": "d596795e-12cc-468d-da7c-9f61846bbe60"
      },
      "source": [
        "B = np.array([[1,0],[1,3]])\n",
        "B"
      ],
      "execution_count": 132,
      "outputs": [
        {
          "output_type": "execute_result",
          "data": {
            "text/plain": [
              "array([[1, 0],\n",
              "       [1, 3]])"
            ]
          },
          "metadata": {
            "tags": []
          },
          "execution_count": 132
        }
      ]
    },
    {
      "cell_type": "code",
      "metadata": {
        "id": "bs2i-JuKwo4E",
        "colab": {
          "base_uri": "https://localhost:8080/"
        },
        "outputId": "04346c94-e47a-45b1-840d-7229aeaf2e40"
      },
      "source": [
        "B = np.array([[1,0],[1,3]]) #Eigen vector\n",
        "w,v = np.linalg.eig(B)\n",
        "w;v"
      ],
      "execution_count": 133,
      "outputs": [
        {
          "output_type": "execute_result",
          "data": {
            "text/plain": [
              "array([[ 0.        ,  0.89442719],\n",
              "       [ 1.        , -0.4472136 ]])"
            ]
          },
          "metadata": {
            "tags": []
          },
          "execution_count": 133
        }
      ]
    },
    {
      "cell_type": "code",
      "metadata": {
        "id": "kM8M-nfRwsCn",
        "colab": {
          "base_uri": "https://localhost:8080/"
        },
        "outputId": "a56f6a02-dbbf-46a7-8ba8-e34484953943"
      },
      "source": [
        "B = np.array([[1,0],[1,3]]) #Eigen value\n",
        "np.linalg.eigvals(B)"
      ],
      "execution_count": 134,
      "outputs": [
        {
          "output_type": "execute_result",
          "data": {
            "text/plain": [
              "array([3., 1.])"
            ]
          },
          "metadata": {
            "tags": []
          },
          "execution_count": 134
        }
      ]
    },
    {
      "cell_type": "markdown",
      "metadata": {
        "id": "C7TLPvnVbJU4"
      },
      "source": [
        "**เฉลย HW5**"
      ]
    },
    {
      "cell_type": "code",
      "metadata": {
        "id": "ipA84vjUbNsj",
        "colab": {
          "base_uri": "https://localhost:8080/"
        },
        "outputId": "9f909a3d-6ee9-45de-ce55-22655875bcf3"
      },
      "source": [
        "B = np.array([[1,0],[1,3]])\n",
        "B"
      ],
      "execution_count": 135,
      "outputs": [
        {
          "output_type": "execute_result",
          "data": {
            "text/plain": [
              "array([[1, 0],\n",
              "       [1, 3]])"
            ]
          },
          "metadata": {
            "tags": []
          },
          "execution_count": 135
        }
      ]
    },
    {
      "cell_type": "code",
      "metadata": {
        "id": "Mb8ySG9ebYZx",
        "colab": {
          "base_uri": "https://localhost:8080/"
        },
        "outputId": "c586018b-aee5-4e9f-8d01-e8b464863d13"
      },
      "source": [
        "B = np.array([[1,0],[1,3]]) #Eigen vector\n",
        "w,v = np.linalg.eig(B)\n",
        "w;v"
      ],
      "execution_count": 136,
      "outputs": [
        {
          "output_type": "execute_result",
          "data": {
            "text/plain": [
              "array([[ 0.        ,  0.89442719],\n",
              "       [ 1.        , -0.4472136 ]])"
            ]
          },
          "metadata": {
            "tags": []
          },
          "execution_count": 136
        }
      ]
    },
    {
      "cell_type": "code",
      "metadata": {
        "id": "b6N-agEbbcmK",
        "colab": {
          "base_uri": "https://localhost:8080/"
        },
        "outputId": "1d251de2-3fb0-4335-a3bd-5103bc050678"
      },
      "source": [
        "B = np.array([[1,0],[1,3]]) #Eigen value\n",
        "np.linalg.eigvals(B)"
      ],
      "execution_count": 137,
      "outputs": [
        {
          "output_type": "execute_result",
          "data": {
            "text/plain": [
              "array([3., 1.])"
            ]
          },
          "metadata": {
            "tags": []
          },
          "execution_count": 137
        }
      ]
    },
    {
      "cell_type": "code",
      "metadata": {
        "id": "9_Q66eI4bgR_",
        "colab": {
          "base_uri": "https://localhost:8080/"
        },
        "outputId": "f6d7ab16-58be-426f-c2d3-ad72436f4e9f"
      },
      "source": [
        "print(f'eigen value = {w[0]} มี eigen vector คือ {v[:,0]}' )"
      ],
      "execution_count": 138,
      "outputs": [
        {
          "output_type": "stream",
          "text": [
            "eigen value = 3.0 มี eigen vector คือ [0. 1.]\n"
          ],
          "name": "stdout"
        }
      ]
    },
    {
      "cell_type": "markdown",
      "metadata": {
        "id": "G2cLUMC1bsVy"
      },
      "source": [
        "eigen vectors and eigen values of covarience matrix of data"
      ]
    },
    {
      "cell_type": "markdown",
      "metadata": {
        "id": "vRikerVNbwav"
      },
      "source": [
        "จากรูปมีจุดข้อมูล 16 จุด และมี attribute 2 มิติ เราจะสร้างเป็น data matrix ที่มีรูปร่าง (shape) ?=(2,16)![Unknown.png](data:image/png;base64,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)"
      ]
    },
    {
      "cell_type": "code",
      "metadata": {
        "id": "UDfFap9Bclcf",
        "colab": {
          "base_uri": "https://localhost:8080/"
        },
        "outputId": "be3be425-9e32-4cc1-8d99-06c389134ecd"
      },
      "source": [
        "X = np.array([[1,2,-3,4],[4,5,-3,2]])\n",
        "print(f'data X =\\n {X}')\n",
        "C_X = np.cov(X)\n",
        "print(f'Covarience ของ X คือ \\n {C_X}')"
      ],
      "execution_count": 139,
      "outputs": [
        {
          "output_type": "stream",
          "text": [
            "data X =\n",
            " [[ 1  2 -3  4]\n",
            " [ 4  5 -3  2]]\n",
            "Covarience ของ X คือ \n",
            " [[ 8.66666667  7.66666667]\n",
            " [ 7.66666667 12.66666667]]\n"
          ],
          "name": "stdout"
        }
      ]
    },
    {
      "cell_type": "code",
      "metadata": {
        "id": "OTuoGMfodMBU"
      },
      "source": [
        "W,V = np.linalg.eig(C_X)"
      ],
      "execution_count": 140,
      "outputs": []
    },
    {
      "cell_type": "code",
      "metadata": {
        "id": "psZ1bYj9dPOA",
        "colab": {
          "base_uri": "https://localhost:8080/"
        },
        "outputId": "4a82fee9-bd6d-4474-a7a4-e3dd00fecd5b"
      },
      "source": [
        "W"
      ],
      "execution_count": 141,
      "outputs": [
        {
          "output_type": "execute_result",
          "data": {
            "text/plain": [
              "array([ 2.74342378, 18.58990955])"
            ]
          },
          "metadata": {
            "tags": []
          },
          "execution_count": 141
        }
      ]
    },
    {
      "cell_type": "code",
      "metadata": {
        "id": "t8FvEfRbdUzd",
        "colab": {
          "base_uri": "https://localhost:8080/"
        },
        "outputId": "a7f01590-8e63-45f4-9a7b-414821c0582d"
      },
      "source": [
        "print(W[1])\n",
        "print(V[:,1])"
      ],
      "execution_count": 142,
      "outputs": [
        {
          "output_type": "stream",
          "text": [
            "18.589909549336475\n",
            "[-0.6113829  -0.79133492]\n"
          ],
          "name": "stdout"
        }
      ]
    },
    {
      "cell_type": "code",
      "metadata": {
        "id": "mzrmowHwdZfM",
        "colab": {
          "base_uri": "https://localhost:8080/",
          "height": 282
        },
        "outputId": "0a963aec-4d36-4113-e2a3-48ba86cda0c3"
      },
      "source": [
        "plt.plot(X[0,:],X[1,:],'or')\n",
        "plt.plot([0,3*V[0,1]],[0,3*V[1,1]],'<-b')"
      ],
      "execution_count": 143,
      "outputs": [
        {
          "output_type": "execute_result",
          "data": {
            "text/plain": [
              "[<matplotlib.lines.Line2D at 0x7fc0e12db048>]"
            ]
          },
          "metadata": {
            "tags": []
          },
          "execution_count": 143
        },
        {
          "output_type": "display_data",
          "data": {
            "image/png": "[encoded data removed]",
            "text/plain": [
              "<Figure size 432x288 with 1 Axes>"
            ]
          },
          "metadata": {
            "tags": [],
            "needs_background": "light"
          }
        }
      ]
    },
    {
      "cell_type": "markdown",
      "metadata": {
        "id": "ayAR18c7deHM"
      },
      "source": [
        "##Inverse Matrix"
      ]
    },
    {
      "cell_type": "markdown",
      "metadata": {
        "id": "tSJyxppWdi1n"
      },
      "source": [
        "inverse ของ $A$ เขียน $A^{-1}$ นิยาม $A*A^{-1} = I = A^{-1}*A$"
      ]
    },
    {
      "cell_type": "code",
      "metadata": {
        "id": "kXosnz6Ydnxu",
        "colab": {
          "base_uri": "https://localhost:8080/"
        },
        "outputId": "e4aa200b-b74c-40ba-97c2-3027ee49cffa"
      },
      "source": [
        "C_X"
      ],
      "execution_count": 144,
      "outputs": [
        {
          "output_type": "execute_result",
          "data": {
            "text/plain": [
              "array([[ 8.66666667,  7.66666667],\n",
              "       [ 7.66666667, 12.66666667]])"
            ]
          },
          "metadata": {
            "tags": []
          },
          "execution_count": 144
        }
      ]
    },
    {
      "cell_type": "code",
      "metadata": {
        "id": "W-knzGfwd6iG",
        "colab": {
          "base_uri": "https://localhost:8080/"
        },
        "outputId": "fa379733-cde4-486d-fdaf-1a36b3e6cb65"
      },
      "source": [
        "inv_C_X = np.linalg.inv(C_X)\n",
        "print(inv_C_X)"
      ],
      "execution_count": 145,
      "outputs": [
        {
          "output_type": "stream",
          "text": [
            "[[ 0.24836601 -0.1503268 ]\n",
            " [-0.1503268   0.16993464]]\n"
          ],
          "name": "stdout"
        }
      ]
    },
    {
      "cell_type": "markdown",
      "metadata": {
        "id": "wElakizgeAD2"
      },
      "source": [
        "ตรวจสอบ"
      ]
    },
    {
      "cell_type": "code",
      "metadata": {
        "id": "cyZZiOg4eIpT",
        "colab": {
          "base_uri": "https://localhost:8080/"
        },
        "outputId": "bb8b87de-696e-456e-cb94-8a492c35efb9"
      },
      "source": [
        "np.dot(C_X,inv_C_X)"
      ],
      "execution_count": 146,
      "outputs": [
        {
          "output_type": "execute_result",
          "data": {
            "text/plain": [
              "array([[1.00000000e+00, 2.23193529e-16],\n",
              "       [1.26018779e-16, 1.00000000e+00]])"
            ]
          },
          "metadata": {
            "tags": []
          },
          "execution_count": 146
        }
      ]
    },
    {
      "cell_type": "code",
      "metadata": {
        "id": "hrkXTxhyeO3U",
        "colab": {
          "base_uri": "https://localhost:8080/"
        },
        "outputId": "8c0b4f52-e87c-4e5c-8d30-42da440e1623"
      },
      "source": [
        "np.dot(inv_C_X,C_X)"
      ],
      "execution_count": 147,
      "outputs": [
        {
          "output_type": "execute_result",
          "data": {
            "text/plain": [
              "array([[1.00000000e+00, 1.26018779e-16],\n",
              "       [2.23193529e-16, 1.00000000e+00]])"
            ]
          },
          "metadata": {
            "tags": []
          },
          "execution_count": 147
        }
      ]
    },
    {
      "cell_type": "code",
      "metadata": {
        "id": "SH8E3TYoeWe2",
        "colab": {
          "base_uri": "https://localhost:8080/"
        },
        "outputId": "8a75c154-71b1-4d99-cba5-03873868184a"
      },
      "source": [
        "np.linalg.inv(inv_C_X)"
      ],
      "execution_count": 148,
      "outputs": [
        {
          "output_type": "execute_result",
          "data": {
            "text/plain": [
              "array([[ 8.66666667,  7.66666667],\n",
              "       [ 7.66666667, 12.66666667]])"
            ]
          },
          "metadata": {
            "tags": []
          },
          "execution_count": 148
        }
      ]
    },
    {
      "cell_type": "markdown",
      "metadata": {
        "id": "YKi0JxNbec9n"
      },
      "source": [
        "#การโหลด Data"
      ]
    },
    {
      "cell_type": "code",
      "metadata": {
        "id": "_syAnqQLejCp"
      },
      "source": [
        "import pandas as pd"
      ],
      "execution_count": 149,
      "outputs": []
    },
    {
      "cell_type": "code",
      "metadata": {
        "id": "Cx6lmy3Fw6cb",
        "outputId": "e93eb043-a90d-4c12-a0b4-79c38ff95471",
        "colab": {
          "base_uri": "https://localhost:8080/",
          "height": 1000
        }
      },
      "source": [
        "pollution_data = pd.read_csv('/content/pollution.txt',sep='\\t+') #\\t+ คือใช้ tab แบ่งข้อมูล \\s+ คือใช้ space แบ่งข้อมูล \n",
        "pollution_data"
      ],
      "execution_count": 150,
      "outputs": [
        {
          "output_type": "stream",
          "text": [
            "/usr/local/lib/python3.6/dist-packages/ipykernel_launcher.py:1: ParserWarning: Falling back to the 'python' engine because the 'c' engine does not support regex separators (separators > 1 char and different from '\\s+' are interpreted as regex); you can avoid this warning by specifying engine='python'.\n",
            "  \"\"\"Entry point for launching an IPython kernel.\n"
          ],
          "name": "stderr"
        },
        {
          "output_type": "execute_result",
          "data": {
            "text/html": [
              "<div>\n",
              "<style scoped>\n",
              "    .dataframe tbody tr th:only-of-type {\n",
              "        vertical-align: middle;\n",
              "    }\n",
              "\n",
              "    .dataframe tbody tr th {\n",
              "        vertical-align: top;\n",
              "    }\n",
              "\n",
              "    .dataframe thead th {\n",
              "        text-align: right;\n",
              "    }\n",
              "</style>\n",
              "<table border=\"1\" class=\"dataframe\">\n",
              "  <thead>\n",
              "    <tr style=\"text-align: right;\">\n",
              "      <th></th>\n",
              "      <th>City</th>\n",
              "      <th>SO2</th>\n",
              "      <th>Temp</th>\n",
              "      <th>Man</th>\n",
              "      <th>Pop</th>\n",
              "      <th>Wind</th>\n",
              "      <th>Rain</th>\n",
              "      <th>RainDays</th>\n",
              "    </tr>\n",
              "  </thead>\n",
              "  <tbody>\n",
              "    <tr>\n",
              "      <th>0</th>\n",
              "      <td>Phoenix</td>\n",
              "      <td>10</td>\n",
              "      <td>70.3</td>\n",
              "      <td>213</td>\n",
              "      <td>582</td>\n",
              "      <td>6.0</td>\n",
              "      <td>7.05</td>\n",
              "      <td>36</td>\n",
              "    </tr>\n",
              "    <tr>\n",
              "      <th>1</th>\n",
              "      <td>Little Rock</td>\n",
              "      <td>13</td>\n",
              "      <td>61.0</td>\n",
              "      <td>91</td>\n",
              "      <td>132</td>\n",
              "      <td>8.2</td>\n",
              "      <td>48.52</td>\n",
              "      <td>100</td>\n",
              "    </tr>\n",
              "    <tr>\n",
              "      <th>2</th>\n",
              "      <td>San Francisco</td>\n",
              "      <td>12</td>\n",
              "      <td>56.7</td>\n",
              "      <td>453</td>\n",
              "      <td>716</td>\n",
              "      <td>8.7</td>\n",
              "      <td>20.66</td>\n",
              "      <td>67</td>\n",
              "    </tr>\n",
              "    <tr>\n",
              "      <th>3</th>\n",
              "      <td>Denver</td>\n",
              "      <td>17</td>\n",
              "      <td>51.9</td>\n",
              "      <td>454</td>\n",
              "      <td>515</td>\n",
              "      <td>9.0</td>\n",
              "      <td>12.95</td>\n",
              "      <td>86</td>\n",
              "    </tr>\n",
              "    <tr>\n",
              "      <th>4</th>\n",
              "      <td>Hartford</td>\n",
              "      <td>56</td>\n",
              "      <td>49.1</td>\n",
              "      <td>412</td>\n",
              "      <td>158</td>\n",
              "      <td>9.0</td>\n",
              "      <td>43.37</td>\n",
              "      <td>127</td>\n",
              "    </tr>\n",
              "    <tr>\n",
              "      <th>5</th>\n",
              "      <td>Wilmington</td>\n",
              "      <td>36</td>\n",
              "      <td>54.0</td>\n",
              "      <td>80</td>\n",
              "      <td>80</td>\n",
              "      <td>9.0</td>\n",
              "      <td>40.25</td>\n",
              "      <td>114</td>\n",
              "    </tr>\n",
              "    <tr>\n",
              "      <th>6</th>\n",
              "      <td>Washington</td>\n",
              "      <td>29</td>\n",
              "      <td>57.3</td>\n",
              "      <td>434</td>\n",
              "      <td>757</td>\n",
              "      <td>9.3</td>\n",
              "      <td>38.89</td>\n",
              "      <td>111</td>\n",
              "    </tr>\n",
              "    <tr>\n",
              "      <th>7</th>\n",
              "      <td>Jacksonville</td>\n",
              "      <td>14</td>\n",
              "      <td>68.4</td>\n",
              "      <td>136</td>\n",
              "      <td>529</td>\n",
              "      <td>8.8</td>\n",
              "      <td>54.47</td>\n",
              "      <td>116</td>\n",
              "    </tr>\n",
              "    <tr>\n",
              "      <th>8</th>\n",
              "      <td>Miami</td>\n",
              "      <td>10</td>\n",
              "      <td>75.5</td>\n",
              "      <td>207</td>\n",
              "      <td>335</td>\n",
              "      <td>9.0</td>\n",
              "      <td>59.80</td>\n",
              "      <td>128</td>\n",
              "    </tr>\n",
              "    <tr>\n",
              "      <th>9</th>\n",
              "      <td>Atlanta</td>\n",
              "      <td>24</td>\n",
              "      <td>61.5</td>\n",
              "      <td>368</td>\n",
              "      <td>497</td>\n",
              "      <td>9.1</td>\n",
              "      <td>48.34</td>\n",
              "      <td>115</td>\n",
              "    </tr>\n",
              "    <tr>\n",
              "      <th>10</th>\n",
              "      <td>Chicago</td>\n",
              "      <td>110</td>\n",
              "      <td>50.6</td>\n",
              "      <td>3344</td>\n",
              "      <td>3369</td>\n",
              "      <td>10.4</td>\n",
              "      <td>34.44</td>\n",
              "      <td>122</td>\n",
              "    </tr>\n",
              "    <tr>\n",
              "      <th>11</th>\n",
              "      <td>Indianapolis</td>\n",
              "      <td>28</td>\n",
              "      <td>52.3</td>\n",
              "      <td>361</td>\n",
              "      <td>746</td>\n",
              "      <td>9.7</td>\n",
              "      <td>38.74</td>\n",
              "      <td>121</td>\n",
              "    </tr>\n",
              "    <tr>\n",
              "      <th>12</th>\n",
              "      <td>Des Moines</td>\n",
              "      <td>17</td>\n",
              "      <td>49.0</td>\n",
              "      <td>104</td>\n",
              "      <td>201</td>\n",
              "      <td>11.2</td>\n",
              "      <td>30.85</td>\n",
              "      <td>103</td>\n",
              "    </tr>\n",
              "    <tr>\n",
              "      <th>13</th>\n",
              "      <td>Wichita</td>\n",
              "      <td>8</td>\n",
              "      <td>56.6</td>\n",
              "      <td>125</td>\n",
              "      <td>277</td>\n",
              "      <td>12.7</td>\n",
              "      <td>30.58</td>\n",
              "      <td>82</td>\n",
              "    </tr>\n",
              "    <tr>\n",
              "      <th>14</th>\n",
              "      <td>Louisville</td>\n",
              "      <td>30</td>\n",
              "      <td>55.6</td>\n",
              "      <td>291</td>\n",
              "      <td>593</td>\n",
              "      <td>8.3</td>\n",
              "      <td>43.11</td>\n",
              "      <td>123</td>\n",
              "    </tr>\n",
              "    <tr>\n",
              "      <th>15</th>\n",
              "      <td>New Orleans</td>\n",
              "      <td>9</td>\n",
              "      <td>68.3</td>\n",
              "      <td>204</td>\n",
              "      <td>361</td>\n",
              "      <td>8.4</td>\n",
              "      <td>56.77</td>\n",
              "      <td>113</td>\n",
              "    </tr>\n",
              "    <tr>\n",
              "      <th>16</th>\n",
              "      <td>Baltimore</td>\n",
              "      <td>47</td>\n",
              "      <td>55.0</td>\n",
              "      <td>625</td>\n",
              "      <td>905</td>\n",
              "      <td>9.6</td>\n",
              "      <td>41.31</td>\n",
              "      <td>111</td>\n",
              "    </tr>\n",
              "    <tr>\n",
              "      <th>17</th>\n",
              "      <td>Detroit</td>\n",
              "      <td>35</td>\n",
              "      <td>49.9</td>\n",
              "      <td>1064</td>\n",
              "      <td>1513</td>\n",
              "      <td>10.1</td>\n",
              "      <td>30.96</td>\n",
              "      <td>129</td>\n",
              "    </tr>\n",
              "    <tr>\n",
              "      <th>18</th>\n",
              "      <td>Minn-St. Paul</td>\n",
              "      <td>29</td>\n",
              "      <td>43.5</td>\n",
              "      <td>699</td>\n",
              "      <td>744</td>\n",
              "      <td>10.6</td>\n",
              "      <td>25.94</td>\n",
              "      <td>137</td>\n",
              "    </tr>\n",
              "    <tr>\n",
              "      <th>19</th>\n",
              "      <td>Kansas City</td>\n",
              "      <td>14</td>\n",
              "      <td>54.5</td>\n",
              "      <td>381</td>\n",
              "      <td>507</td>\n",
              "      <td>10.0</td>\n",
              "      <td>37.00</td>\n",
              "      <td>99</td>\n",
              "    </tr>\n",
              "    <tr>\n",
              "      <th>20</th>\n",
              "      <td>St. Louis</td>\n",
              "      <td>56</td>\n",
              "      <td>55.9</td>\n",
              "      <td>775</td>\n",
              "      <td>622</td>\n",
              "      <td>9.5</td>\n",
              "      <td>35.89</td>\n",
              "      <td>105</td>\n",
              "    </tr>\n",
              "    <tr>\n",
              "      <th>21</th>\n",
              "      <td>Omaha</td>\n",
              "      <td>14</td>\n",
              "      <td>51.5</td>\n",
              "      <td>181</td>\n",
              "      <td>347</td>\n",
              "      <td>10.9</td>\n",
              "      <td>30.18</td>\n",
              "      <td>98</td>\n",
              "    </tr>\n",
              "    <tr>\n",
              "      <th>22</th>\n",
              "      <td>Albuquerque</td>\n",
              "      <td>11</td>\n",
              "      <td>56.8</td>\n",
              "      <td>46</td>\n",
              "      <td>244</td>\n",
              "      <td>8.9</td>\n",
              "      <td>7.77</td>\n",
              "      <td>58</td>\n",
              "    </tr>\n",
              "    <tr>\n",
              "      <th>23</th>\n",
              "      <td>Albany</td>\n",
              "      <td>46</td>\n",
              "      <td>47.6</td>\n",
              "      <td>44</td>\n",
              "      <td>116</td>\n",
              "      <td>8.8</td>\n",
              "      <td>33.36</td>\n",
              "      <td>135</td>\n",
              "    </tr>\n",
              "    <tr>\n",
              "      <th>24</th>\n",
              "      <td>Buffalo</td>\n",
              "      <td>11</td>\n",
              "      <td>47.1</td>\n",
              "      <td>391</td>\n",
              "      <td>463</td>\n",
              "      <td>12.4</td>\n",
              "      <td>36.11</td>\n",
              "      <td>166</td>\n",
              "    </tr>\n",
              "    <tr>\n",
              "      <th>25</th>\n",
              "      <td>Cincinnati</td>\n",
              "      <td>23</td>\n",
              "      <td>54.0</td>\n",
              "      <td>462</td>\n",
              "      <td>453</td>\n",
              "      <td>7.1</td>\n",
              "      <td>39.04</td>\n",
              "      <td>132</td>\n",
              "    </tr>\n",
              "    <tr>\n",
              "      <th>26</th>\n",
              "      <td>Cleveland</td>\n",
              "      <td>65</td>\n",
              "      <td>49.7</td>\n",
              "      <td>1007</td>\n",
              "      <td>751</td>\n",
              "      <td>10.9</td>\n",
              "      <td>34.99</td>\n",
              "      <td>155</td>\n",
              "    </tr>\n",
              "    <tr>\n",
              "      <th>27</th>\n",
              "      <td>Columbus</td>\n",
              "      <td>26</td>\n",
              "      <td>51.5</td>\n",
              "      <td>266</td>\n",
              "      <td>540</td>\n",
              "      <td>8.6</td>\n",
              "      <td>37.01</td>\n",
              "      <td>134</td>\n",
              "    </tr>\n",
              "    <tr>\n",
              "      <th>28</th>\n",
              "      <td>Philadelphia</td>\n",
              "      <td>69</td>\n",
              "      <td>54.6</td>\n",
              "      <td>1692</td>\n",
              "      <td>1950</td>\n",
              "      <td>9.6</td>\n",
              "      <td>39.93</td>\n",
              "      <td>115</td>\n",
              "    </tr>\n",
              "    <tr>\n",
              "      <th>29</th>\n",
              "      <td>Pittsburgh</td>\n",
              "      <td>61</td>\n",
              "      <td>50.4</td>\n",
              "      <td>347</td>\n",
              "      <td>520</td>\n",
              "      <td>9.4</td>\n",
              "      <td>36.22</td>\n",
              "      <td>147</td>\n",
              "    </tr>\n",
              "    <tr>\n",
              "      <th>30</th>\n",
              "      <td>Providence</td>\n",
              "      <td>94</td>\n",
              "      <td>50.0</td>\n",
              "      <td>343</td>\n",
              "      <td>179</td>\n",
              "      <td>10.6</td>\n",
              "      <td>42.75</td>\n",
              "      <td>125</td>\n",
              "    </tr>\n",
              "    <tr>\n",
              "      <th>31</th>\n",
              "      <td>Memphis</td>\n",
              "      <td>10</td>\n",
              "      <td>61.6</td>\n",
              "      <td>337</td>\n",
              "      <td>624</td>\n",
              "      <td>9.2</td>\n",
              "      <td>49.10</td>\n",
              "      <td>105</td>\n",
              "    </tr>\n",
              "    <tr>\n",
              "      <th>32</th>\n",
              "      <td>Nashville</td>\n",
              "      <td>18</td>\n",
              "      <td>59.4</td>\n",
              "      <td>275</td>\n",
              "      <td>448</td>\n",
              "      <td>7.9</td>\n",
              "      <td>46.00</td>\n",
              "      <td>119</td>\n",
              "    </tr>\n",
              "    <tr>\n",
              "      <th>33</th>\n",
              "      <td>Dallas</td>\n",
              "      <td>9</td>\n",
              "      <td>66.2</td>\n",
              "      <td>641</td>\n",
              "      <td>844</td>\n",
              "      <td>10.9</td>\n",
              "      <td>35.94</td>\n",
              "      <td>78</td>\n",
              "    </tr>\n",
              "    <tr>\n",
              "      <th>34</th>\n",
              "      <td>Houston</td>\n",
              "      <td>10</td>\n",
              "      <td>68.9</td>\n",
              "      <td>721</td>\n",
              "      <td>1233</td>\n",
              "      <td>10.8</td>\n",
              "      <td>48.19</td>\n",
              "      <td>103</td>\n",
              "    </tr>\n",
              "    <tr>\n",
              "      <th>35</th>\n",
              "      <td>Salt Lake City</td>\n",
              "      <td>28</td>\n",
              "      <td>51.0</td>\n",
              "      <td>137</td>\n",
              "      <td>176</td>\n",
              "      <td>8.7</td>\n",
              "      <td>15.17</td>\n",
              "      <td>89</td>\n",
              "    </tr>\n",
              "    <tr>\n",
              "      <th>36</th>\n",
              "      <td>Norfolk</td>\n",
              "      <td>31</td>\n",
              "      <td>59.3</td>\n",
              "      <td>96</td>\n",
              "      <td>308</td>\n",
              "      <td>10.6</td>\n",
              "      <td>44.68</td>\n",
              "      <td>116</td>\n",
              "    </tr>\n",
              "    <tr>\n",
              "      <th>37</th>\n",
              "      <td>Richmond</td>\n",
              "      <td>26</td>\n",
              "      <td>57.8</td>\n",
              "      <td>197</td>\n",
              "      <td>299</td>\n",
              "      <td>7.6</td>\n",
              "      <td>42.59</td>\n",
              "      <td>115</td>\n",
              "    </tr>\n",
              "    <tr>\n",
              "      <th>38</th>\n",
              "      <td>Seattle</td>\n",
              "      <td>29</td>\n",
              "      <td>51.1</td>\n",
              "      <td>379</td>\n",
              "      <td>531</td>\n",
              "      <td>9.4</td>\n",
              "      <td>38.79</td>\n",
              "      <td>164</td>\n",
              "    </tr>\n",
              "    <tr>\n",
              "      <th>39</th>\n",
              "      <td>Charleston</td>\n",
              "      <td>31</td>\n",
              "      <td>55.2</td>\n",
              "      <td>35</td>\n",
              "      <td>71</td>\n",
              "      <td>6.5</td>\n",
              "      <td>40.75</td>\n",
              "      <td>148</td>\n",
              "    </tr>\n",
              "    <tr>\n",
              "      <th>40</th>\n",
              "      <td>Milwaukee</td>\n",
              "      <td>16</td>\n",
              "      <td>45.7</td>\n",
              "      <td>569</td>\n",
              "      <td>717</td>\n",
              "      <td>11.8</td>\n",
              "      <td>29.07</td>\n",
              "      <td>123</td>\n",
              "    </tr>\n",
              "  </tbody>\n",
              "</table>\n",
              "</div>"
            ],
            "text/plain": [
              "              City  SO2  Temp   Man   Pop  Wind   Rain  RainDays\n",
              "0          Phoenix   10  70.3   213   582   6.0   7.05        36\n",
              "1      Little Rock   13  61.0    91   132   8.2  48.52       100\n",
              "2    San Francisco   12  56.7   453   716   8.7  20.66        67\n",
              "3           Denver   17  51.9   454   515   9.0  12.95        86\n",
              "4         Hartford   56  49.1   412   158   9.0  43.37       127\n",
              "5       Wilmington   36  54.0    80    80   9.0  40.25       114\n",
              "6       Washington   29  57.3   434   757   9.3  38.89       111\n",
              "7     Jacksonville   14  68.4   136   529   8.8  54.47       116\n",
              "8            Miami   10  75.5   207   335   9.0  59.80       128\n",
              "9          Atlanta   24  61.5   368   497   9.1  48.34       115\n",
              "10         Chicago  110  50.6  3344  3369  10.4  34.44       122\n",
              "11    Indianapolis   28  52.3   361   746   9.7  38.74       121\n",
              "12      Des Moines   17  49.0   104   201  11.2  30.85       103\n",
              "13         Wichita    8  56.6   125   277  12.7  30.58        82\n",
              "14      Louisville   30  55.6   291   593   8.3  43.11       123\n",
              "15     New Orleans    9  68.3   204   361   8.4  56.77       113\n",
              "16       Baltimore   47  55.0   625   905   9.6  41.31       111\n",
              "17         Detroit   35  49.9  1064  1513  10.1  30.96       129\n",
              "18   Minn-St. Paul   29  43.5   699   744  10.6  25.94       137\n",
              "19     Kansas City   14  54.5   381   507  10.0  37.00        99\n",
              "20       St. Louis   56  55.9   775   622   9.5  35.89       105\n",
              "21           Omaha   14  51.5   181   347  10.9  30.18        98\n",
              "22     Albuquerque   11  56.8    46   244   8.9   7.77        58\n",
              "23          Albany   46  47.6    44   116   8.8  33.36       135\n",
              "24         Buffalo   11  47.1   391   463  12.4  36.11       166\n",
              "25      Cincinnati   23  54.0   462   453   7.1  39.04       132\n",
              "26       Cleveland   65  49.7  1007   751  10.9  34.99       155\n",
              "27        Columbus   26  51.5   266   540   8.6  37.01       134\n",
              "28    Philadelphia   69  54.6  1692  1950   9.6  39.93       115\n",
              "29      Pittsburgh   61  50.4   347   520   9.4  36.22       147\n",
              "30      Providence   94  50.0   343   179  10.6  42.75       125\n",
              "31         Memphis   10  61.6   337   624   9.2  49.10       105\n",
              "32       Nashville   18  59.4   275   448   7.9  46.00       119\n",
              "33          Dallas    9  66.2   641   844  10.9  35.94        78\n",
              "34         Houston   10  68.9   721  1233  10.8  48.19       103\n",
              "35  Salt Lake City   28  51.0   137   176   8.7  15.17        89\n",
              "36         Norfolk   31  59.3    96   308  10.6  44.68       116\n",
              "37        Richmond   26  57.8   197   299   7.6  42.59       115\n",
              "38         Seattle   29  51.1   379   531   9.4  38.79       164\n",
              "39      Charleston   31  55.2    35    71   6.5  40.75       148\n",
              "40       Milwaukee   16  45.7   569   717  11.8  29.07       123"
            ]
          },
          "metadata": {
            "tags": []
          },
          "execution_count": 150
        }
      ]
    }
  ]
}