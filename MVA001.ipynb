{
  "nbformat": 4,
  "nbformat_minor": 0,
  "metadata": {
    "colab": {
      "name": "MVA001.ipynb",
      "provenance": [],
      "authorship_tag": "ABX9TyM/7zr1t/XXJa0kAHNtW+Qq",
      "include_colab_link": true
    },
    "kernelspec": {
      "name": "python3",
      "display_name": "Python 3"
    }
  },
  "cells": [
    {
      "cell_type": "markdown",
      "metadata": {
        "id": "view-in-github",
        "colab_type": "text"
      },
      "source": [
        "<a href=\"https://colab.research.google.com/github/ThitiwatJtrsn/multivariate/blob/main/MVA001.ipynb\" target=\"_parent\"><img src=\"https://colab.research.google.com/assets/colab-badge.svg\" alt=\"Open In Colab\"/></a>"
      ]
    },
    {
      "cell_type": "markdown",
      "metadata": {
        "id": "JXN8qVdIT2QS"
      },
      "source": [
        "Scalar,Vector,Matrix"
      ]
    },
    {
      "cell_type": "markdown",
      "metadata": {
        "id": "JIFqQmZ1Y6Cz"
      },
      "source": [
        "##Scalar"
      ]
    },
    {
      "cell_type": "code",
      "metadata": {
        "id": "LZhuvkfUTnzc"
      },
      "source": [
        "import numpy as np"
      ],
      "execution_count": 2,
      "outputs": []
    },
    {
      "cell_type": "code",
      "metadata": {
        "colab": {
          "base_uri": "https://localhost:8080/"
        },
        "id": "uB7r5XV6T6Pp",
        "outputId": "7d3bb431-98e5-40eb-c098-5e98aea6ab88"
      },
      "source": [
        "scalar_a = 10\n",
        "print(scalar_a)"
      ],
      "execution_count": 3,
      "outputs": [
        {
          "output_type": "stream",
          "text": [
            "10\n"
          ],
          "name": "stdout"
        }
      ]
    },
    {
      "cell_type": "markdown",
      "metadata": {
        "id": "23sXJmtWY-HV"
      },
      "source": [
        "##Vector"
      ]
    },
    {
      "cell_type": "code",
      "metadata": {
        "colab": {
          "base_uri": "https://localhost:8080/"
        },
        "id": "FYMWop5IUY0x",
        "outputId": "030cc9a7-21ef-492b-8f87-5b052dc9fe53"
      },
      "source": [
        "vector_b = np.zeros([2,1])\n",
        "vector_b[0,0] = 1\n",
        "vector_b[1,0] = 3\n",
        "print(vector_b)\n",
        "print(vector_b.shape)"
      ],
      "execution_count": 4,
      "outputs": [
        {
          "output_type": "stream",
          "text": [
            "[[1.]\n",
            " [3.]]\n",
            "(2, 1)\n"
          ],
          "name": "stdout"
        }
      ]
    },
    {
      "cell_type": "code",
      "metadata": {
        "colab": {
          "base_uri": "https://localhost:8080/"
        },
        "id": "00VVJfO2UxmE",
        "outputId": "d1c1e404-80ad-4cdc-a0ca-e78abb352779"
      },
      "source": [
        "vector_c = np.array([[1],[3]])\n",
        "print(vector_c)\n",
        "print(vector_c.shape)"
      ],
      "execution_count": 5,
      "outputs": [
        {
          "output_type": "stream",
          "text": [
            "[[1]\n",
            " [3]]\n",
            "(2, 1)\n"
          ],
          "name": "stdout"
        }
      ]
    },
    {
      "cell_type": "code",
      "metadata": {
        "id": "zL1H4n7yVJ6H"
      },
      "source": [
        "from matplotlib import pyplot as plt"
      ],
      "execution_count": 6,
      "outputs": []
    },
    {
      "cell_type": "code",
      "metadata": {
        "colab": {
          "base_uri": "https://localhost:8080/",
          "height": 282
        },
        "id": "k9wIbAu5VdGN",
        "outputId": "2aedd088-f067-4649-cd47-5e90accd98cc"
      },
      "source": [
        "plt.plot(vector_b[0,0],vector_b[1,0],'or')"
      ],
      "execution_count": 7,
      "outputs": [
        {
          "output_type": "execute_result",
          "data": {
            "text/plain": [
              "[<matplotlib.lines.Line2D at 0x7fa158b18e80>]"
            ]
          },
          "metadata": {
            "tags": []
          },
          "execution_count": 7
        },
        {
          "output_type": "display_data",
          "data": {
            "image/png": "[encoded data removed]",
            "text/plain": [
              "<Figure size 432x288 with 1 Axes>"
            ]
          },
          "metadata": {
            "tags": [],
            "needs_background": "light"
          }
        }
      ]
    },
    {
      "cell_type": "markdown",
      "metadata": {
        "id": "OnRD_zLZX2cd"
      },
      "source": [
        "ขนาดของ vector คำนวณได้โดย พีทาโกรัส"
      ]
    },
    {
      "cell_type": "code",
      "metadata": {
        "id": "TVHqPnL_YoCj",
        "colab": {
          "base_uri": "https://localhost:8080/"
        },
        "outputId": "f7a49be6-949b-457a-9a09-9fe6d2ef6c54"
      },
      "source": [
        "vector_b_size = ((vector_b[0,0]**2) + (vector_b[1,0]**2))**0.5\n",
        "print(vector_b_size)"
      ],
      "execution_count": 8,
      "outputs": [
        {
          "output_type": "stream",
          "text": [
            "3.1622776601683795\n"
          ],
          "name": "stdout"
        }
      ]
    },
    {
      "cell_type": "code",
      "metadata": {
        "colab": {
          "base_uri": "https://localhost:8080/",
          "height": 282
        },
        "id": "VbpLtJ81WjP7",
        "outputId": "671ca9a7-0837-4769-abe7-6ed65eab0157"
      },
      "source": [
        "plt.quiver(0,0,vector_b[0,0],vector_b[1,0])"
      ],
      "execution_count": 9,
      "outputs": [
        {
          "output_type": "execute_result",
          "data": {
            "text/plain": [
              "<matplotlib.quiver.Quiver at 0x7fa1586453c8>"
            ]
          },
          "metadata": {
            "tags": []
          },
          "execution_count": 9
        },
        {
          "output_type": "display_data",
          "data": {
            "image/png": "[encoded data removed]",
            "text/plain": [
              "<Figure size 432x288 with 1 Axes>"
            ]
          },
          "metadata": {
            "tags": [],
            "needs_background": "light"
          }
        }
      ]
    },
    {
      "cell_type": "code",
      "metadata": {
        "id": "8APzqK5zXdqi"
      },
      "source": [
        "vector_b = np.zeros([2,1]) #vector\n"
      ],
      "execution_count": 10,
      "outputs": []
    },
    {
      "cell_type": "markdown",
      "metadata": {
        "id": "Naci937zZMTL"
      },
      "source": [
        "##Matrix"
      ]
    },
    {
      "cell_type": "code",
      "metadata": {
        "id": "pXPD1eiYzpIx",
        "colab": {
          "base_uri": "https://localhost:8080/"
        },
        "outputId": "95fc330e-f18b-4ae9-e5cd-81e370523da5"
      },
      "source": [
        "matrix_d = np.array([[2,3],[1,4],[-1,1]])\n",
        "print(matrix_d)"
      ],
      "execution_count": 11,
      "outputs": [
        {
          "output_type": "stream",
          "text": [
            "[[ 2  3]\n",
            " [ 1  4]\n",
            " [-1  1]]\n"
          ],
          "name": "stdout"
        }
      ]
    },
    {
      "cell_type": "code",
      "metadata": {
        "id": "IrkB1Wi4zsV8",
        "colab": {
          "base_uri": "https://localhost:8080/"
        },
        "outputId": "7cb74bee-e7fc-40c5-9957-9413f2f8cf5f"
      },
      "source": [
        "matrix_d = matrix_d.T\n",
        "print(matrix_d)"
      ],
      "execution_count": 12,
      "outputs": [
        {
          "output_type": "stream",
          "text": [
            "[[ 2  1 -1]\n",
            " [ 3  4  1]]\n"
          ],
          "name": "stdout"
        }
      ]
    },
    {
      "cell_type": "code",
      "metadata": {
        "id": "xul70sY_z9E9",
        "colab": {
          "base_uri": "https://localhost:8080/",
          "height": 282
        },
        "outputId": "74dca03f-f761-4b05-ad26-c4750c4b9a11"
      },
      "source": [
        "plt.plot(matrix_d[0,:],matrix_d[1,:],'or') #plot(ค่า X, ค่า Y ,หน้าตาของจุด)\n",
        "plt.plot(0,0,'.k')\n",
        "plt.plot([0,0],[-1,5],'--b')\n",
        "plt.plot([-2,2.5],[0,0],'--b')"
      ],
      "execution_count": 13,
      "outputs": [
        {
          "output_type": "execute_result",
          "data": {
            "text/plain": [
              "[<matplotlib.lines.Line2D at 0x7fa14fdd4358>]"
            ]
          },
          "metadata": {
            "tags": []
          },
          "execution_count": 13
        },
        {
          "output_type": "display_data",
          "data": {
            "image/png": "[encoded data removed]",
            "text/plain": [
              "<Figure size 432x288 with 1 Axes>"
            ]
          },
          "metadata": {
            "tags": [],
            "needs_background": "light"
          }
        }
      ]
    },
    {
      "cell_type": "code",
      "metadata": {
        "id": "0d3ebhAc0Bdb",
        "colab": {
          "base_uri": "https://localhost:8080/",
          "height": 282
        },
        "outputId": "aedca789-ec04-4738-cdd3-7b8bc9d6ec98"
      },
      "source": [
        "#plt.plot(matrix_d[0,:],matrix_d[1,:],'or') #plot(ค่า X, ค่า Y ,หน้าตาของจุด)\n",
        "#plt.plot(0,0,'.b')\n",
        "plt.plot([0,0],[-1,5],'o:b')\n",
        "#plt.plot([-2,2.5],[0,0],'--b')"
      ],
      "execution_count": 14,
      "outputs": [
        {
          "output_type": "execute_result",
          "data": {
            "text/plain": [
              "[<matplotlib.lines.Line2D at 0x7fa14fdadfd0>]"
            ]
          },
          "metadata": {
            "tags": []
          },
          "execution_count": 14
        },
        {
          "output_type": "display_data",
          "data": {
            "image/png": "[encoded data removed]",
            "text/plain": [
              "<Figure size 432x288 with 1 Axes>"
            ]
          },
          "metadata": {
            "tags": [],
            "needs_background": "light"
          }
        }
      ]
    },
    {
      "cell_type": "markdown",
      "metadata": {
        "id": "RfoEPH2t0J_x"
      },
      "source": [
        "##TRANSPOSE"
      ]
    },
    {
      "cell_type": "code",
      "metadata": {
        "id": "yM_bZbP60NID",
        "colab": {
          "base_uri": "https://localhost:8080/"
        },
        "outputId": "d38c433c-e6f0-40b0-e67d-1d6ca77f3852"
      },
      "source": [
        "A = np.array([[3,-1,2],[1,5,4]])\n",
        "print(A)"
      ],
      "execution_count": 15,
      "outputs": [
        {
          "output_type": "stream",
          "text": [
            "[[ 3 -1  2]\n",
            " [ 1  5  4]]\n"
          ],
          "name": "stdout"
        }
      ]
    },
    {
      "cell_type": "code",
      "metadata": {
        "id": "y-1bOeBf0S5F",
        "colab": {
          "base_uri": "https://localhost:8080/"
        },
        "outputId": "77c5fa14-1514-403f-eefa-de35a02d06ff"
      },
      "source": [
        "A.T"
      ],
      "execution_count": 16,
      "outputs": [
        {
          "output_type": "execute_result",
          "data": {
            "text/plain": [
              "array([[ 3,  1],\n",
              "       [-1,  5],\n",
              "       [ 2,  4]])"
            ]
          },
          "metadata": {
            "tags": []
          },
          "execution_count": 16
        }
      ]
    },
    {
      "cell_type": "markdown",
      "metadata": {
        "id": "FSd51ag-0cD5"
      },
      "source": [
        "##B = A*A'"
      ]
    },
    {
      "cell_type": "code",
      "metadata": {
        "id": "j-7bTy5I0duH",
        "colab": {
          "base_uri": "https://localhost:8080/"
        },
        "outputId": "f172dbd5-71c3-427a-bcb4-c20cd01a6179"
      },
      "source": [
        "B = np.dot(A,A.T)\n",
        "print(B)"
      ],
      "execution_count": 17,
      "outputs": [
        {
          "output_type": "stream",
          "text": [
            "[[14  6]\n",
            " [ 6 42]]\n"
          ],
          "name": "stdout"
        }
      ]
    },
    {
      "cell_type": "markdown",
      "metadata": {
        "id": "YlA6JzgL0kkW"
      },
      "source": [
        "##DETERMINANT\n",
        "Det(B)"
      ]
    },
    {
      "cell_type": "code",
      "metadata": {
        "id": "SA-4K7Pq0oVl",
        "colab": {
          "base_uri": "https://localhost:8080/"
        },
        "outputId": "89671da7-07ca-4b6d-b237-2cd2de0fa8b5"
      },
      "source": [
        "np.linalg.det(B)"
      ],
      "execution_count": 18,
      "outputs": [
        {
          "output_type": "execute_result",
          "data": {
            "text/plain": [
              "551.9999999999998"
            ]
          },
          "metadata": {
            "tags": []
          },
          "execution_count": 18
        }
      ]
    },
    {
      "cell_type": "markdown",
      "metadata": {
        "id": "cJ8QWgPuuMrN"
      },
      "source": [
        "linelg = linear algebra"
      ]
    },
    {
      "cell_type": "markdown",
      "metadata": {
        "id": "cjYBA8Gcub5-"
      },
      "source": [
        "matrix algebra  เพิ่มเติม"
      ]
    },
    {
      "cell_type": "code",
      "metadata": {
        "id": "XtUU2VFBue3F",
        "outputId": "b407ca62-7c22-40e5-e31f-556c305de909",
        "colab": {
          "base_uri": "https://localhost:8080/",
          "height": 282
        }
      },
      "source": [
        "plt.plot([0,1],[0,1],  '-r') ## vector [1,1]\n",
        "plt.plot(0,0, '.b')\n",
        "plt.plot([0,0],[-1,5],'^:k')\n",
        "plt.plot([-1.5,2.5],[0,0],'>:k')"
      ],
      "execution_count": 19,
      "outputs": [
        {
          "output_type": "execute_result",
          "data": {
            "text/plain": [
              "[<matplotlib.lines.Line2D at 0x7fa14fd0eeb8>]"
            ]
          },
          "metadata": {
            "tags": []
          },
          "execution_count": 19
        },
        {
          "output_type": "display_data",
          "data": {
            "image/png": "[encoded data removed]",
            "text/plain": [
              "<Figure size 432x288 with 1 Axes>"
            ]
          },
          "metadata": {
            "tags": [],
            "needs_background": "light"
          }
        }
      ]
    },
    {
      "cell_type": "code",
      "metadata": {
        "id": "5IxxvQ9Auo03",
        "outputId": "80069cfd-4dbd-45b1-8ea4-873f3f6384f6",
        "colab": {
          "base_uri": "https://localhost:8080/"
        }
      },
      "source": [
        "B = np.array([[1,2],[3,4]])\n",
        "B"
      ],
      "execution_count": 20,
      "outputs": [
        {
          "output_type": "execute_result",
          "data": {
            "text/plain": [
              "array([[1, 2],\n",
              "       [3, 4]])"
            ]
          },
          "metadata": {
            "tags": []
          },
          "execution_count": 20
        }
      ]
    },
    {
      "cell_type": "markdown",
      "metadata": {
        "id": "hcSR_TqGusts"
      },
      "source": [
        "การคูณ Matrix $(B.v)$ คือการทำ linear transformation"
      ]
    },
    {
      "cell_type": "code",
      "metadata": {
        "id": "cg_1gt5ruv-t",
        "outputId": "f209ad55-a809-42b5-88b2-dc1a88c83869",
        "colab": {
          "base_uri": "https://localhost:8080/"
        }
      },
      "source": [
        "BV = np .dot  (B,np.array([[1], [1]]))\n",
        "BV"
      ],
      "execution_count": 21,
      "outputs": [
        {
          "output_type": "execute_result",
          "data": {
            "text/plain": [
              "array([[3],\n",
              "       [7]])"
            ]
          },
          "metadata": {
            "tags": []
          },
          "execution_count": 21
        }
      ]
    },
    {
      "cell_type": "code",
      "metadata": {
        "id": "7UeUaDT8uzaX",
        "outputId": "96b361d9-5eb0-4282-b9f9-6d0822020c43",
        "colab": {
          "base_uri": "https://localhost:8080/",
          "height": 282
        }
      },
      "source": [
        "plt.plot([0,BV[0,0]],[0,BV[1,0]],'-g') # vector [1,1]\n",
        "plt.plot([0,1],[0,1],'-r') \n",
        "plt.plot(0,0,'.k')\n",
        "plt.plot([0,0],[-1,5],'^:b')\n",
        "plt.plot([-2,2.5],[0,0],'>:b')"
      ],
      "execution_count": 22,
      "outputs": [
        {
          "output_type": "execute_result",
          "data": {
            "text/plain": [
              "[<matplotlib.lines.Line2D at 0x7fa14fc952e8>]"
            ]
          },
          "metadata": {
            "tags": []
          },
          "execution_count": 22
        },
        {
          "output_type": "display_data",
          "data": {
            "image/png": "[encoded data removed]",
            "text/plain": [
              "<Figure size 432x288 with 1 Axes>"
            ]
          },
          "metadata": {
            "tags": [],
            "needs_background": "light"
          }
        }
      ]
    },
    {
      "cell_type": "markdown",
      "metadata": {
        "id": "m245sgDAu3yv"
      },
      "source": [
        "Determinant Matrix ก็คือ $(B.v)$ พื้นที่ของ unit vector ที่ถูกเปลี่ยนไปโดย matrix นั้นๆ"
      ]
    },
    {
      "cell_type": "code",
      "metadata": {
        "id": "QltIEoVXu7M9",
        "outputId": "f04fadb2-e578-4e7f-9927-b358e8346319",
        "colab": {
          "base_uri": "https://localhost:8080/",
          "height": 282
        }
      },
      "source": [
        "plt.plot([0,BV[0,0]],[0,BV[1,0]],'-g') # vector Bv\n",
        "plt.plot([1,1],[1,0],':r') # วางจดไข่ปลา พื้นที่ของ Bv สีแดงแนวตั้ง\n",
        "plt.plot([0,1],[0,1],'-r') # vector v ([1,1])\n",
        "plt.plot(0,0,'.k')\n",
        "plt.plot([0,0],[-1,5],'^:b')\n",
        "plt.plot([-2,2.5],[0,0],'>:b')"
      ],
      "execution_count": 23,
      "outputs": [
        {
          "output_type": "execute_result",
          "data": {
            "text/plain": [
              "[<matplotlib.lines.Line2D at 0x7fa14fbd7240>]"
            ]
          },
          "metadata": {
            "tags": []
          },
          "execution_count": 23
        },
        {
          "output_type": "display_data",
          "data": {
            "image/png": "[encoded data removed]",
            "text/plain": [
              "<Figure size 432x288 with 1 Axes>"
            ]
          },
          "metadata": {
            "tags": [],
            "needs_background": "light"
          }
        }
      ]
    },
    {
      "cell_type": "code",
      "metadata": {
        "id": "-xrm3LFfu_nm",
        "outputId": "1da0c84c-0782-4d4e-8f75-970af41ee6a4",
        "colab": {
          "base_uri": "https://localhost:8080/",
          "height": 282
        }
      },
      "source": [
        "plt.plot([0,BV[0,0]],[0,BV[1,0]],'-g') # vector Bv\n",
        "plt.plot([1,1],[1,0],':r') # วางจดไข่ปลา พื้นที่ของ Bv สีแดงแนวตั้ง\n",
        "plt.plot([1,0],[1,1],':r') # วางจดไข่ปลา พื้นที่ของ Bv สีแดงแนวนอน\n",
        "plt.plot([0,1],[0,1],'-r') # vector v ([1,1])\n",
        "plt.plot(0,0,'.k')\n",
        "plt.plot([0,0],[-1,5],'^:b')\n",
        "plt.plot([-2,2.5],[0,0],'>:b')"
      ],
      "execution_count": 24,
      "outputs": [
        {
          "output_type": "execute_result",
          "data": {
            "text/plain": [
              "[<matplotlib.lines.Line2D at 0x7fa14fb514a8>]"
            ]
          },
          "metadata": {
            "tags": []
          },
          "execution_count": 24
        },
        {
          "output_type": "display_data",
          "data": {
            "image/png": "[encoded data removed]",
            "text/plain": [
              "<Figure size 432x288 with 1 Axes>"
            ]
          },
          "metadata": {
            "tags": [],
            "needs_background": "light"
          }
        }
      ]
    },
    {
      "cell_type": "code",
      "metadata": {
        "id": "jQVNiOHUvD_K",
        "outputId": "4c482ce9-fc0e-432b-fd36-4f019543d20f",
        "colab": {
          "base_uri": "https://localhost:8080/",
          "height": 282
        }
      },
      "source": [
        "plt.plot([0,BV[0,0]],[0,BV[1,0]],'-g') # vector Bv\n",
        "plt.plot([1,1],[1,0],':r') # วางจดไข่ปลา พื้นที่ของ Bv สีแดงแนวตั้ง\n",
        "plt.plot([1,0],[1,1],':r') # วางจดไข่ปลา พื้นที่ของ Bv สีแดงแนวนอน\n",
        "plt.plot([3,3],[7,0],':g') # วางจดไข่ปลา พื้นที่ของ Bv สีเขียวแนวตั้ง\n",
        "plt.plot([3,0],[7,7],':g') # วางจุดไข่ปลา พื้นที่ของ Bv สีเขียวแนวนอน\n",
        "plt.plot([0,1],[0,1],'-r') # vector v ([1,1])\n",
        "plt.plot(0,0,'.k')\n",
        "plt.plot([0,0],[-1,7],'^:b')\n",
        "plt.plot([-2,3],[0,0],'>:b')"
      ],
      "execution_count": 25,
      "outputs": [
        {
          "output_type": "execute_result",
          "data": {
            "text/plain": [
              "[<matplotlib.lines.Line2D at 0x7fa14fad3198>]"
            ]
          },
          "metadata": {
            "tags": []
          },
          "execution_count": 25
        },
        {
          "output_type": "display_data",
          "data": {
            "image/png": "[encoded data removed]",
            "text/plain": [
              "<Figure size 432x288 with 1 Axes>"
            ]
          },
          "metadata": {
            "tags": [],
            "needs_background": "light"
          }
        }
      ]
    },
    {
      "cell_type": "markdown",
      "metadata": {
        "id": "8ORur9_kvIfX"
      },
      "source": [
        "#Identity matrix ($I$)"
      ]
    },
    {
      "cell_type": "markdown",
      "metadata": {
        "id": "n8Axgb7OvRMQ"
      },
      "source": [
        "$BI =B =IB$"
      ]
    },
    {
      "cell_type": "code",
      "metadata": {
        "id": "o_fPx6NJvSFf"
      },
      "source": [
        "iden2 = np.identity(2)"
      ],
      "execution_count": 26,
      "outputs": []
    },
    {
      "cell_type": "code",
      "metadata": {
        "id": "FgrWVOx0vXoR",
        "outputId": "73761bea-4ca3-4114-f764-880eb002047f",
        "colab": {
          "base_uri": "https://localhost:8080/"
        }
      },
      "source": [
        "B"
      ],
      "execution_count": 27,
      "outputs": [
        {
          "output_type": "execute_result",
          "data": {
            "text/plain": [
              "array([[1, 2],\n",
              "       [3, 4]])"
            ]
          },
          "metadata": {
            "tags": []
          },
          "execution_count": 27
        }
      ]
    },
    {
      "cell_type": "code",
      "metadata": {
        "id": "MBSn-s6Yvabo",
        "outputId": "28e64cf2-e0fd-4d8a-8855-62b1dbb4a85b",
        "colab": {
          "base_uri": "https://localhost:8080/"
        }
      },
      "source": [
        "np.dot(B,iden2)"
      ],
      "execution_count": 28,
      "outputs": [
        {
          "output_type": "execute_result",
          "data": {
            "text/plain": [
              "array([[1., 2.],\n",
              "       [3., 4.]])"
            ]
          },
          "metadata": {
            "tags": []
          },
          "execution_count": 28
        }
      ]
    },
    {
      "cell_type": "code",
      "metadata": {
        "id": "Lj6fwB4Mvdy5",
        "outputId": "b31c8ea3-ed13-4ae7-cca2-f086ac83d560",
        "colab": {
          "base_uri": "https://localhost:8080/"
        }
      },
      "source": [
        "np.dot(iden2,B)"
      ],
      "execution_count": 29,
      "outputs": [
        {
          "output_type": "execute_result",
          "data": {
            "text/plain": [
              "array([[1., 2.],\n",
              "       [3., 4.]])"
            ]
          },
          "metadata": {
            "tags": []
          },
          "execution_count": 29
        }
      ]
    },
    {
      "cell_type": "code",
      "metadata": {
        "id": "07jb9575vg41",
        "outputId": "1385f281-0535-48e0-9bb1-6d2c02133ae4",
        "colab": {
          "base_uri": "https://localhost:8080/"
        }
      },
      "source": [
        "C = np.array([[-1,2],[2,4]])\n",
        "C"
      ],
      "execution_count": 30,
      "outputs": [
        {
          "output_type": "execute_result",
          "data": {
            "text/plain": [
              "array([[-1,  2],\n",
              "       [ 2,  4]])"
            ]
          },
          "metadata": {
            "tags": []
          },
          "execution_count": 30
        }
      ]
    },
    {
      "cell_type": "code",
      "metadata": {
        "id": "Gfk6-QO3vjre",
        "outputId": "71d5b48c-83f2-46c7-cb35-b89df71d8035",
        "colab": {
          "base_uri": "https://localhost:8080/"
        }
      },
      "source": [
        "np.dot(B,C)"
      ],
      "execution_count": 31,
      "outputs": [
        {
          "output_type": "execute_result",
          "data": {
            "text/plain": [
              "array([[ 3, 10],\n",
              "       [ 5, 22]])"
            ]
          },
          "metadata": {
            "tags": []
          },
          "execution_count": 31
        }
      ]
    },
    {
      "cell_type": "code",
      "metadata": {
        "id": "EINmrLzrvngl",
        "outputId": "6a563c92-2de4-47cc-c6c6-aa25268ee647",
        "colab": {
          "base_uri": "https://localhost:8080/"
        }
      },
      "source": [
        "np.dot(C,B)"
      ],
      "execution_count": 32,
      "outputs": [
        {
          "output_type": "execute_result",
          "data": {
            "text/plain": [
              "array([[ 5,  6],\n",
              "       [14, 20]])"
            ]
          },
          "metadata": {
            "tags": []
          },
          "execution_count": 32
        }
      ]
    },
    {
      "cell_type": "markdown",
      "metadata": {
        "id": "XbhsNYsDvtlR"
      },
      "source": [
        "การบ้านหาในห้อง "
      ]
    },
    {
      "cell_type": "markdown",
      "metadata": {
        "id": "Q6dtgJCCvx4Y"
      },
      "source": [
        "![Unknown.png](data:image/png;base64,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)"
      ]
    },
    {
      "cell_type": "code",
      "metadata": {
        "id": "85BBfgaQvzo3",
        "outputId": "0aebfd20-8828-49dd-bda4-ca1abe36704a",
        "colab": {
          "base_uri": "https://localhost:8080/"
        }
      },
      "source": [
        "B = np.array([[[3,1,6],[7,4,5],[2,-7,1]]])\n",
        "print(B)"
      ],
      "execution_count": 33,
      "outputs": [
        {
          "output_type": "stream",
          "text": [
            "[[[ 3  1  6]\n",
            "  [ 7  4  5]\n",
            "  [ 2 -7  1]]]\n"
          ],
          "name": "stdout"
        }
      ]
    },
    {
      "cell_type": "code",
      "metadata": {
        "id": "tD16AePvv4qZ",
        "outputId": "6ddc8ba5-284a-4205-e1ee-2478e1197eab",
        "colab": {
          "base_uri": "https://localhost:8080/"
        }
      },
      "source": [
        "np.linalg.det(B)"
      ],
      "execution_count": 34,
      "outputs": [
        {
          "output_type": "execute_result",
          "data": {
            "text/plain": [
              "array([-222.])"
            ]
          },
          "metadata": {
            "tags": []
          },
          "execution_count": 34
        }
      ]
    },
    {
      "cell_type": "markdown",
      "metadata": {
        "id": "6Q8lkZmWv80d"
      },
      "source": [
        "#Eigen value กับ Eigen vector"
      ]
    },
    {
      "cell_type": "markdown",
      "metadata": {
        "id": "YFQeLxrTv92p"
      },
      "source": [
        "Eigen value ($\\lambda$) -> $|A-\\lambda I| = 0$\n",
        "\n",
        "Eigen vector ($x$) -> $Ax = \\lambda x$"
      ]
    },
    {
      "cell_type": "code",
      "metadata": {
        "id": "XHw__crCwBVL"
      },
      "source": [
        "## latext ($\\lamda$ ) เป็นต้น"
      ],
      "execution_count": 35,
      "outputs": []
    },
    {
      "cell_type": "markdown",
      "metadata": {
        "id": "be1-kY7WwKE2"
      },
      "source": [
        "HW 5 หา Eigen value กับ Eigen vector"
      ]
    }
  ]
}