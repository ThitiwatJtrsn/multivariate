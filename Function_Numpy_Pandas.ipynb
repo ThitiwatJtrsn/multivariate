{
  "nbformat": 4,
  "nbformat_minor": 0,
  "metadata": {
    "colab": {
      "name": "Function_Numpy_Pandas.ipynb",
      "provenance": [],
      "authorship_tag": "ABX9TyMSVsFYl5L53SVdEcPhPJuL",
      "include_colab_link": true
    },
    "kernelspec": {
      "name": "python3",
      "display_name": "Python 3"
    }
  },
  "cells": [
    {
      "cell_type": "markdown",
      "metadata": {
        "id": "view-in-github",
        "colab_type": "text"
      },
      "source": [
        "<a href=\"https://colab.research.google.com/github/ThitiwatJtrsn/multivariate/blob/main/Function_Numpy_Pandas.ipynb\" target=\"_parent\"><img src=\"https://colab.research.google.com/assets/colab-badge.svg\" alt=\"Open In Colab\"/></a>"
      ]
    },
    {
      "cell_type": "markdown",
      "metadata": {
        "id": "Q9rbNnbiSP1d"
      },
      "source": [
        "#Function"
      ]
    },
    {
      "cell_type": "markdown",
      "metadata": {
        "id": "1mI0jMTve9ht"
      },
      "source": [
        "```python\n",
        "def function_name(_Input_):\n",
        "    do_something with _Input_ to produce _Output_\n",
        "    return _Output_\n",
        "```"
      ]
    },
    {
      "cell_type": "markdown",
      "metadata": {
        "id": "8TyI8nTcfFh5"
      },
      "source": [
        "function มีส่วนสำคัญทั้งหมด 4 ส่วน\n",
        "1. บอก python ว่าเราจะเขียนฟังก์ชั่น ชื่ออะไร def function_name(): (ขาดไม่ได้)\n",
        "\n",
        "2. กำหนดตัวแปรที่จะเป็น input Input (ขาดได้)\n",
        "\n",
        "3. ส่วนประมวลผล do_something with Input to get Output (ขาดไม่ได้)\n",
        "\n",
        "4. ส่วน output return Output(ขาดได้)\n",
        "เราใช้ เว้นวรรค (indent) เพื่อบอกขอบเขตของ code\n",
        "\n"
      ]
    },
    {
      "cell_type": "markdown",
      "metadata": {
        "id": "35Fx7K83fmK2"
      },
      "source": [
        "#### สร้างฟังก์ชั่น"
      ]
    },
    {
      "cell_type": "code",
      "metadata": {
        "colab": {
          "base_uri": "https://localhost:8080/"
        },
        "id": "ctJPSA69Sh1O",
        "outputId": "b35eff73-cdd5-491b-f915-04dac1d271ed"
      },
      "source": [
        "def print_name(name,surname,ID):\n",
        "    st = f'ชื่อ {name} นามสกุล {surname} ID {ID}'\n",
        "    return st\n",
        "print('outside function')"
      ],
      "execution_count": 1,
      "outputs": [
        {
          "output_type": "stream",
          "text": [
            "outside function\n"
          ],
          "name": "stdout"
        }
      ]
    },
    {
      "cell_type": "code",
      "metadata": {
        "id": "_k6_WlFQf-OG"
      },
      "source": [
        "def print_name(name,surname,ID) :\n",
        "        st = f'ชื่อ {name} นามสกุล {surname} ID {ID}'\n",
        "        return st"
      ],
      "execution_count": 8,
      "outputs": []
    },
    {
      "cell_type": "code",
      "metadata": {
        "colab": {
          "base_uri": "https://localhost:8080/",
          "height": 37
        },
        "id": "bZUeu7PZgIe6",
        "outputId": "5b8dc24a-b415-4aa7-cb66-60f4c1eebc90"
      },
      "source": [
        "print_name('ฐิติวัฒน์','จันทรเสนา','623021047-5')"
      ],
      "execution_count": 9,
      "outputs": [
        {
          "output_type": "execute_result",
          "data": {
            "application/vnd.google.colaboratory.intrinsic+json": {
              "type": "string"
            },
            "text/plain": [
              "'ชื่อ ฐิติวัฒน์ นามสกุล จันทรเสนา ID 623021047-5'"
            ]
          },
          "metadata": {
            "tags": []
          },
          "execution_count": 9
        }
      ]
    },
    {
      "cell_type": "code",
      "metadata": {
        "colab": {
          "base_uri": "https://localhost:8080/"
        },
        "id": "4DMvXtKMgbgN",
        "outputId": "b14a5b2c-d927-4ad6-b071-a0adb0023316"
      },
      "source": [
        "output_string = print_name('ฐิติวัฒน์','จันทรเสนา','623021047-5')\n",
        "print(output_string)"
      ],
      "execution_count": 10,
      "outputs": [
        {
          "output_type": "stream",
          "text": [
            "ชื่อ ฐิติวัฒน์ นามสกุล จันทรเสนา ID 623021047-5\n"
          ],
          "name": "stdout"
        }
      ]
    },
    {
      "cell_type": "markdown",
      "metadata": {
        "id": "RtLFBusPgqJ1"
      },
      "source": [
        "ฟังก์ชั่นไม่จำเป็นต้องมี input"
      ]
    },
    {
      "cell_type": "code",
      "metadata": {
        "id": "ft9_N_x6grgt"
      },
      "source": [
        "def Pi():\n",
        "    return 3.14159265 "
      ],
      "execution_count": 11,
      "outputs": []
    },
    {
      "cell_type": "code",
      "metadata": {
        "colab": {
          "base_uri": "https://localhost:8080/"
        },
        "id": "CqP5mySIg5VU",
        "outputId": "db57f8c3-cf92-43c3-b7f1-b786f68b1168"
      },
      "source": [
        "#คำนวณพื้นที่วงกลมที่มีขนาดเส้นผ่านศูนย์กลางเท่ากับ 3\n",
        "Pi()*(1.5**2)"
      ],
      "execution_count": 12,
      "outputs": [
        {
          "output_type": "execute_result",
          "data": {
            "text/plain": [
              "7.0685834625"
            ]
          },
          "metadata": {
            "tags": []
          },
          "execution_count": 12
        }
      ]
    },
    {
      "cell_type": "code",
      "metadata": {
        "id": "8WBRF6lIhBHg"
      },
      "source": [
        "def print_my_name():\n",
        "    print('ฐิติวัฒน์ 623021047-5')"
      ],
      "execution_count": 13,
      "outputs": []
    },
    {
      "cell_type": "code",
      "metadata": {
        "colab": {
          "base_uri": "https://localhost:8080/"
        },
        "id": "qOtnV7nGhKl8",
        "outputId": "44f7d60e-a357-465d-a29c-2a5fb539b8b7"
      },
      "source": [
        "print_my_name()"
      ],
      "execution_count": 14,
      "outputs": [
        {
          "output_type": "stream",
          "text": [
            "ฐิติวัฒน์ 623021047-5\n"
          ],
          "name": "stdout"
        }
      ]
    },
    {
      "cell_type": "markdown",
      "metadata": {
        "id": "DE3RZWUXhfX_"
      },
      "source": [
        "### 1. input ของ function ใน python มีสองแบบ ```input ที่จำเป็นต้องใส่``` กับ ```input ที่ไม่จำเป็นต้องใส่ (มีค่า default)```\n",
        "\n",
        "### 2. เราต้องเรียง input ที่จำเป็นต้องใส่ขึ้นก่อน"
      ]
    },
    {
      "cell_type": "code",
      "metadata": {
        "id": "0O973_6lhThj"
      },
      "source": [
        "def print_2lines_default(name,surname,ID,grade='A'):\n",
        "    st = f'ชื่อ {name} นามสกุล {surname} รหัส {ID}'\n",
        "    print(st)\n",
        "    st2 = f'เกรดวิชา Multivariate >>> {grade}'\n",
        "    print(st2)"
      ],
      "execution_count": 16,
      "outputs": []
    },
    {
      "cell_type": "code",
      "metadata": {
        "colab": {
          "base_uri": "https://localhost:8080/"
        },
        "id": "vg81K7YghpZx",
        "outputId": "4beff4ef-775f-47e9-861e-c69744080ad2"
      },
      "source": [
        "print_2lines_default('ฐิติวัฒน์','จันทรเสนา','623021047-5')"
      ],
      "execution_count": 17,
      "outputs": [
        {
          "output_type": "stream",
          "text": [
            "ชื่อ ฐิติวัฒน์ นามสกุล จันทรเสนา รหัส 623021047-5\n",
            "เกรดวิชา Multivariate >>> A\n"
          ],
          "name": "stdout"
        }
      ]
    },
    {
      "cell_type": "code",
      "metadata": {
        "colab": {
          "base_uri": "https://localhost:8080/"
        },
        "id": "E46bfJ9kh4FI",
        "outputId": "94ebb107-723f-4e9e-98a7-0166a59d4f9a"
      },
      "source": [
        "print_2lines_default('ฐิติวัฒน์','จันทรเสนา','623021047-5','A')"
      ],
      "execution_count": 18,
      "outputs": [
        {
          "output_type": "stream",
          "text": [
            "ชื่อ ฐิติวัฒน์ นามสกุล จันทรเสนา รหัส 623021047-5\n",
            "เกรดวิชา Multivariate >>> A\n"
          ],
          "name": "stdout"
        }
      ]
    },
    {
      "cell_type": "markdown",
      "metadata": {
        "id": "mWIEejENiFFN"
      },
      "source": [
        "เราสามารถเรียกฟังก์ชั่นโดยใช้ชื่อตัวแปรของฟังก์ชั่นช่วยได้"
      ]
    },
    {
      "cell_type": "markdown",
      "metadata": {
        "id": "UvbyQxbTjXBA"
      },
      "source": [
        "HW3 ให้เขียน function คำนวณจำนวนวินาทีจาก เวลาต่อไปนี้\n",
        "'14-15-31'\n",
        "\n",
        "'13-00-01'\n",
        "\n",
        "'05-49-44'\n",
        "\n",
        "'00-00-16'\n",
        "\n",
        "และ print ให้สวยงาม"
      ]
    },
    {
      "cell_type": "code",
      "metadata": {
        "id": "QgxtP7SPjbu4"
      },
      "source": [
        ""
      ],
      "execution_count": null,
      "outputs": []
    }
  ]
}